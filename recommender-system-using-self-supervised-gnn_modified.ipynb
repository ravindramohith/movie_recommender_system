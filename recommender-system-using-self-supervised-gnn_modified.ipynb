{
 "cells": [
  {
   "cell_type": "markdown",
   "id": "39a3abd7",
   "metadata": {},
   "source": [
    "\n",
    "# Recommender System using Self-Supervised Graph Neural Networks\n",
    "\n",
    "## Overview\n",
    "This project implements a recommender system using self-supervised learning techniques with Graph Neural Networks (GNNs). The approach leverages the inherent structure of the data and self-supervised learning of **LightGCN** to enhance the recommendation quality without relying on labeled data.\n",
    "\n",
    "## Features\n",
    "- Self-supervised learning with LightGCN (GNN)\n",
    "- Efficient handling of graph-structured data\n",
    "- Enhanced recommendation performance through advanced neural network techniques\n",
    "\n",
    "## Usage\n",
    "To run the project, execute the following command:\n",
    "```sh\n",
    "jupyter notebook recommender-system-using-self-supervised-gnn.ipynb\n",
    "```\n",
    "\n",
    "## Project Structure\n",
    "- `recommender-system-using-self-supervised-gnn.ipynb`: Main notebook containing the implementation of the recommender system.\n",
    "\n",
    "## Results\n",
    "The results of the recommender system are evaluated using standard metrics such as Precision, Recall, and F1-score. The self-supervised approach shows significant improvements over traditional methods.\n",
    "\n",
    "## Contributing\n",
    "Contributions are welcome! Please read the [contribution guidelines](CONTRIBUTING.md) first.\n"
   ]
  },
  {
   "cell_type": "code",
   "execution_count": 253,
   "metadata": {
    "colab": {
     "base_uri": "https://localhost:8080/"
    },
    "execution": {
     "iopub.execute_input": "2024-08-09T11:34:39.016006Z",
     "iopub.status.busy": "2024-08-09T11:34:39.015353Z",
     "iopub.status.idle": "2024-08-09T11:34:51.168477Z",
     "shell.execute_reply": "2024-08-09T11:34:51.167453Z",
     "shell.execute_reply.started": "2024-08-09T11:34:39.015973Z"
    },
    "id": "SR6d7sjDFZIs",
    "outputId": "0b9011a8-7775-4b26-a2c0-052cbefb5256"
   },
   "outputs": [
    {
     "name": "stdout",
     "output_type": "stream",
     "text": [
      "Requirement already satisfied: torch-geometric in /opt/conda/lib/python3.10/site-packages (2.5.3)\n",
      "Requirement already satisfied: tqdm in /opt/conda/lib/python3.10/site-packages (from torch-geometric) (4.66.4)\n",
      "Requirement already satisfied: numpy in /opt/conda/lib/python3.10/site-packages (from torch-geometric) (1.26.4)\n",
      "Requirement already satisfied: scipy in /opt/conda/lib/python3.10/site-packages (from torch-geometric) (1.11.4)\n",
      "Requirement already satisfied: fsspec in /opt/conda/lib/python3.10/site-packages (from torch-geometric) (2024.5.0)\n",
      "Requirement already satisfied: jinja2 in /opt/conda/lib/python3.10/site-packages (from torch-geometric) (3.1.2)\n",
      "Requirement already satisfied: aiohttp in /opt/conda/lib/python3.10/site-packages (from torch-geometric) (3.9.1)\n",
      "Requirement already satisfied: requests in /opt/conda/lib/python3.10/site-packages (from torch-geometric) (2.32.3)\n",
      "Requirement already satisfied: pyparsing in /opt/conda/lib/python3.10/site-packages (from torch-geometric) (3.1.1)\n",
      "Requirement already satisfied: scikit-learn in /opt/conda/lib/python3.10/site-packages (from torch-geometric) (1.2.2)\n",
      "Requirement already satisfied: psutil>=5.8.0 in /opt/conda/lib/python3.10/site-packages (from torch-geometric) (5.9.3)\n",
      "Requirement already satisfied: attrs>=17.3.0 in /opt/conda/lib/python3.10/site-packages (from aiohttp->torch-geometric) (23.2.0)\n",
      "Requirement already satisfied: multidict<7.0,>=4.5 in /opt/conda/lib/python3.10/site-packages (from aiohttp->torch-geometric) (6.0.4)\n",
      "Requirement already satisfied: yarl<2.0,>=1.0 in /opt/conda/lib/python3.10/site-packages (from aiohttp->torch-geometric) (1.9.3)\n",
      "Requirement already satisfied: frozenlist>=1.1.1 in /opt/conda/lib/python3.10/site-packages (from aiohttp->torch-geometric) (1.4.1)\n",
      "Requirement already satisfied: aiosignal>=1.1.2 in /opt/conda/lib/python3.10/site-packages (from aiohttp->torch-geometric) (1.3.1)\n",
      "Requirement already satisfied: async-timeout<5.0,>=4.0 in /opt/conda/lib/python3.10/site-packages (from aiohttp->torch-geometric) (4.0.3)\n",
      "Requirement already satisfied: MarkupSafe>=2.0 in /opt/conda/lib/python3.10/site-packages (from jinja2->torch-geometric) (2.1.3)\n",
      "Requirement already satisfied: charset-normalizer<4,>=2 in /opt/conda/lib/python3.10/site-packages (from requests->torch-geometric) (3.3.2)\n",
      "Requirement already satisfied: idna<4,>=2.5 in /opt/conda/lib/python3.10/site-packages (from requests->torch-geometric) (3.6)\n",
      "Requirement already satisfied: urllib3<3,>=1.21.1 in /opt/conda/lib/python3.10/site-packages (from requests->torch-geometric) (1.26.18)\n",
      "Requirement already satisfied: certifi>=2017.4.17 in /opt/conda/lib/python3.10/site-packages (from requests->torch-geometric) (2024.7.4)\n",
      "Requirement already satisfied: joblib>=1.1.1 in /opt/conda/lib/python3.10/site-packages (from scikit-learn->torch-geometric) (1.4.2)\n",
      "Requirement already satisfied: threadpoolctl>=2.0.0 in /opt/conda/lib/python3.10/site-packages (from scikit-learn->torch-geometric) (3.2.0)\n"
     ]
    }
   ],
   "source": [
    "# Code cell\n",
    "!pip install torch-geometric"
   ]
  },
  {
   "cell_type": "code",
   "execution_count": 254,
   "metadata": {
    "execution": {
     "iopub.execute_input": "2024-08-09T11:34:51.171432Z",
     "iopub.status.busy": "2024-08-09T11:34:51.171114Z",
     "iopub.status.idle": "2024-08-09T11:34:51.179185Z",
     "shell.execute_reply": "2024-08-09T11:34:51.178326Z",
     "shell.execute_reply.started": "2024-08-09T11:34:51.171400Z"
    },
    "id": "-nTIfY-owmFf"
   },
   "outputs": [],
   "source": [
    "# Import necessary libraries\n",
    "import numpy as np\n",
    "import pandas as pd\n",
    "import random\n",
    "import copy\n",
    "from tqdm.notebook import tqdm\n",
    "\n",
    "import matplotlib.pyplot as plt\n",
    "\n",
    "from sklearn.model_selection import train_test_split\n",
    "from sklearn import model_selection, metrics, preprocessing\n",
    "from torch_geometric.utils import degree\n",
    "import torch\n",
    "from torch import nn, optim, Tensor\n",
    "# from torch_sparse import SparseTensor, matmul\n",
    "import torch.nn.functional as F\n",
    "from torch_geometric.nn.conv.gcn_conv import gcn_norm\n",
    "from torch_geometric.data import download_url, extract_zip\n",
    "from torch_geometric.utils import structured_negative_sampling\n",
    "from torch_geometric.nn.conv import MessagePassing\n",
    "from torch_geometric.typing import Adj\n",
    "\n",
    "from scipy import sparse"
   ]
  },
  {
   "cell_type": "code",
   "execution_count": 255,
   "metadata": {
    "colab": {
     "base_uri": "https://localhost:8080/"
    },
    "execution": {
     "iopub.execute_input": "2024-08-09T11:34:51.180529Z",
     "iopub.status.busy": "2024-08-09T11:34:51.180277Z",
     "iopub.status.idle": "2024-08-09T11:34:51.194291Z",
     "shell.execute_reply": "2024-08-09T11:34:51.193415Z",
     "shell.execute_reply.started": "2024-08-09T11:34:51.180506Z"
    },
    "id": "RwBZPk_iFjZX",
    "outputId": "bd819320-251c-42a0-a6a9-afb8ed4d6994"
   },
   "outputs": [
    {
     "name": "stdout",
     "output_type": "stream",
     "text": [
      "[[0 0 1 1]\n",
      " [1 0 1 0]\n",
      " [0 1 0 0]]\n"
     ]
    }
   ],
   "source": [
    "# Code cell\n",
    "R = np.array([[0,0,1,1],[1,0,1,0],[0,1,0,0]])\n",
    "print(R)"
   ]
  },
  {
   "cell_type": "code",
   "execution_count": 256,
   "metadata": {
    "colab": {
     "base_uri": "https://localhost:8080/"
    },
    "execution": {
     "iopub.execute_input": "2024-08-09T11:34:51.196241Z",
     "iopub.status.busy": "2024-08-09T11:34:51.195543Z",
     "iopub.status.idle": "2024-08-09T11:34:51.206326Z",
     "shell.execute_reply": "2024-08-09T11:34:51.205444Z",
     "shell.execute_reply.started": "2024-08-09T11:34:51.196215Z"
    },
    "id": "bTFwHHIIFwU3",
    "outputId": "f3b415c6-9ffa-489b-bb6d-8e0928596319"
   },
   "outputs": [
    {
     "name": "stdout",
     "output_type": "stream",
     "text": [
      "  (0, 2)\t1\n",
      "  (0, 3)\t1\n",
      "  (1, 0)\t1\n",
      "  (1, 2)\t1\n",
      "  (2, 1)\t1\n"
     ]
    }
   ],
   "source": [
    "# Code cell\n",
    "R_np_COO = sparse.coo_matrix(R)\n",
    "print(R_np_COO)"
   ]
  },
  {
   "cell_type": "code",
   "execution_count": 257,
   "metadata": {
    "colab": {
     "base_uri": "https://localhost:8080/"
    },
    "execution": {
     "iopub.execute_input": "2024-08-09T11:34:51.209490Z",
     "iopub.status.busy": "2024-08-09T11:34:51.208946Z",
     "iopub.status.idle": "2024-08-09T11:34:51.217467Z",
     "shell.execute_reply": "2024-08-09T11:34:51.216649Z",
     "shell.execute_reply.started": "2024-08-09T11:34:51.209464Z"
    },
    "id": "oUthOnT4F4og",
    "outputId": "3b7375bf-4ff8-4e13-991c-69182a0b7120"
   },
   "outputs": [
    {
     "name": "stdout",
     "output_type": "stream",
     "text": [
      "[array([0, 0, 1, 1, 2], dtype=int32), array([2, 3, 0, 2, 1], dtype=int32)]\n"
     ]
    }
   ],
   "source": [
    "# Code cell\n",
    "R_edge_index = [R_np_COO.row, R_np_COO.col]\n",
    "print(R_edge_index)"
   ]
  },
  {
   "cell_type": "code",
   "execution_count": 258,
   "metadata": {
    "colab": {
     "base_uri": "https://localhost:8080/"
    },
    "execution": {
     "iopub.execute_input": "2024-08-09T11:34:51.218911Z",
     "iopub.status.busy": "2024-08-09T11:34:51.218581Z",
     "iopub.status.idle": "2024-08-09T11:34:51.230015Z",
     "shell.execute_reply": "2024-08-09T11:34:51.229122Z",
     "shell.execute_reply.started": "2024-08-09T11:34:51.218861Z"
    },
    "id": "Y9R3ccLcGG15",
    "outputId": "e55c404a-a96f-487d-83ff-f238abef520e"
   },
   "outputs": [
    {
     "name": "stdout",
     "output_type": "stream",
     "text": [
      "[[0 0 1 1]\n",
      " [1 0 1 0]\n",
      " [0 1 0 0]]\n"
     ]
    }
   ],
   "source": [
    "# Code cell\n",
    "print(R_np_COO.todense())"
   ]
  },
  {
   "cell_type": "code",
   "execution_count": 259,
   "metadata": {
    "colab": {
     "base_uri": "https://localhost:8080/"
    },
    "execution": {
     "iopub.execute_input": "2024-08-09T11:34:51.231312Z",
     "iopub.status.busy": "2024-08-09T11:34:51.231049Z",
     "iopub.status.idle": "2024-08-09T11:34:51.265184Z",
     "shell.execute_reply": "2024-08-09T11:34:51.264357Z",
     "shell.execute_reply.started": "2024-08-09T11:34:51.231289Z"
    },
    "id": "j1mSFcuvGOt-",
    "outputId": "86a64086-2afd-4d9f-c7f8-064e3854a8b5"
   },
   "outputs": [
    {
     "name": "stderr",
     "output_type": "stream",
     "text": [
      "Using existing file ml-latest-small.zip\n",
      "Extracting ./ml-latest-small.zip\n"
     ]
    }
   ],
   "source": [
    "# Code cell\n",
    "url = 'https://files.grouplens.org/datasets/movielens/ml-latest-small.zip'\n",
    "extract_zip(download_url(url, '.'), '.')\n",
    "\n",
    "movie_path = './ml-latest-small/movies.csv'\n",
    "rating_path = './ml-latest-small/ratings.csv'\n",
    "user_path = './ml-latest-small/users.csv'"
   ]
  },
  {
   "cell_type": "code",
   "execution_count": 260,
   "metadata": {
    "colab": {
     "base_uri": "https://localhost:8080/"
    },
    "execution": {
     "iopub.execute_input": "2024-08-09T11:34:51.266343Z",
     "iopub.status.busy": "2024-08-09T11:34:51.266091Z",
     "iopub.status.idle": "2024-08-09T11:34:51.362375Z",
     "shell.execute_reply": "2024-08-09T11:34:51.361424Z",
     "shell.execute_reply.started": "2024-08-09T11:34:51.266320Z"
    },
    "id": "WyFniUNTZy96",
    "outputId": "a3cae97e-41dc-452d-c737-55cff9d73b92"
   },
   "outputs": [
    {
     "name": "stdout",
     "output_type": "stream",
     "text": [
      "              userId        movieId         rating     timestamp\n",
      "count  100836.000000  100836.000000  100836.000000  1.008360e+05\n",
      "mean      326.127564   19435.295718       3.501557  1.205946e+09\n",
      "std       182.618491   35530.987199       1.042529  2.162610e+08\n",
      "min         1.000000       1.000000       0.500000  8.281246e+08\n",
      "25%       177.000000    1199.000000       3.000000  1.019124e+09\n",
      "50%       325.000000    2991.000000       3.500000  1.186087e+09\n",
      "75%       477.000000    8122.000000       4.000000  1.435994e+09\n",
      "max       610.000000  193609.000000       5.000000  1.537799e+09\n",
      "Movies: 9724\n",
      "Users: 610\n"
     ]
    }
   ],
   "source": [
    "# Code cell\n",
    "df_movie = pd.read_csv(movie_path)\n",
    "df_rating = pd.read_csv(rating_path)\n",
    "\n",
    "print(df_rating.describe())\n",
    "df_rating.head()\n",
    "\n",
    "print(\"Movies:\", len(df_rating['movieId'].unique()))\n",
    "print(\"Users:\", len(df_rating['userId'].unique()))"
   ]
  },
  {
   "cell_type": "markdown",
   "metadata": {
    "id": "p5JfYArzalhN"
   },
   "source": [
    "Label The movies cause movieIds are from 1 to 193609"
   ]
  },
  {
   "cell_type": "code",
   "execution_count": 261,
   "metadata": {
    "execution": {
     "iopub.execute_input": "2024-08-09T11:34:51.364126Z",
     "iopub.status.busy": "2024-08-09T11:34:51.363744Z",
     "iopub.status.idle": "2024-08-09T11:34:51.383866Z",
     "shell.execute_reply": "2024-08-09T11:34:51.383162Z",
     "shell.execute_reply.started": "2024-08-09T11:34:51.364093Z"
    },
    "id": "wbGRQ0BaavXg"
   },
   "outputs": [],
   "source": [
    "# Preprocessing\n",
    "user_labels = preprocessing.LabelEncoder()\n",
    "movie_labels = preprocessing.LabelEncoder()\n",
    "\n",
    "df_rating.userId = user_labels.fit_transform(df_rating.userId.values)\n",
    "df_rating.movieId = movie_labels.fit_transform(df_rating.movieId.values)"
   ]
  },
  {
   "cell_type": "code",
   "execution_count": 262,
   "metadata": {
    "colab": {
     "base_uri": "https://localhost:8080/"
    },
    "execution": {
     "iopub.execute_input": "2024-08-09T11:34:51.385232Z",
     "iopub.status.busy": "2024-08-09T11:34:51.384972Z",
     "iopub.status.idle": "2024-08-09T11:34:51.407770Z",
     "shell.execute_reply": "2024-08-09T11:34:51.406893Z",
     "shell.execute_reply.started": "2024-08-09T11:34:51.385209Z"
    },
    "id": "09aC9Qa5a-RU",
    "outputId": "0cb76af3-1edd-49b4-8482-147d13bc627f"
   },
   "outputs": [
    {
     "name": "stdout",
     "output_type": "stream",
     "text": [
      "              userId        movieId         rating     timestamp\n",
      "count  100836.000000  100836.000000  100836.000000  1.008360e+05\n",
      "mean      325.127564    3101.735561       3.501557  1.205946e+09\n",
      "std       182.618491    2627.050983       1.042529  2.162610e+08\n",
      "min         0.000000       0.000000       0.500000  8.281246e+08\n",
      "25%       176.000000     900.000000       3.000000  1.019124e+09\n",
      "50%       324.000000    2252.000000       3.500000  1.186087e+09\n",
      "75%       476.000000    5095.250000       4.000000  1.435994e+09\n",
      "max       609.000000    9723.000000       5.000000  1.537799e+09\n"
     ]
    }
   ],
   "source": [
    "# Code cell\n",
    "print(df_rating.describe())"
   ]
  },
  {
   "cell_type": "code",
   "execution_count": 263,
   "metadata": {
    "colab": {
     "base_uri": "https://localhost:8080/"
    },
    "execution": {
     "iopub.execute_input": "2024-08-09T11:34:51.409264Z",
     "iopub.status.busy": "2024-08-09T11:34:51.408995Z",
     "iopub.status.idle": "2024-08-09T11:34:51.417026Z",
     "shell.execute_reply": "2024-08-09T11:34:51.416131Z",
     "shell.execute_reply.started": "2024-08-09T11:34:51.409241Z"
    },
    "id": "8eddbo1rbIab",
    "outputId": "63913587-ac8e-4407-e4ec-b87eeb38cc39"
   },
   "outputs": [
    {
     "name": "stdout",
     "output_type": "stream",
     "text": [
      "rating\n",
      "4.0    26818\n",
      "3.0    20047\n",
      "5.0    13211\n",
      "3.5    13136\n",
      "4.5     8551\n",
      "2.0     7551\n",
      "2.5     5550\n",
      "1.0     2811\n",
      "1.5     1791\n",
      "0.5     1370\n",
      "Name: count, dtype: int64\n"
     ]
    }
   ],
   "source": [
    "# Code cell\n",
    "print(df_rating.rating.value_counts())"
   ]
  },
  {
   "cell_type": "markdown",
   "metadata": {
    "id": "moTuyJUrbmyQ"
   },
   "source": [
    "## Load Edge Indices"
   ]
  },
  {
   "cell_type": "code",
   "execution_count": 264,
   "metadata": {
    "execution": {
     "iopub.execute_input": "2024-08-09T11:34:51.418367Z",
     "iopub.status.busy": "2024-08-09T11:34:51.418092Z",
     "iopub.status.idle": "2024-08-09T11:34:51.430145Z",
     "shell.execute_reply": "2024-08-09T11:34:51.429275Z",
     "shell.execute_reply.started": "2024-08-09T11:34:51.418342Z"
    },
    "id": "jytaVM0dbNW2"
   },
   "outputs": [],
   "source": [
    "# Define functions\n",
    "def load_edge_csv(df, src_index_col, dest_index_col, link_index_col, threshold=3):\n",
    "  edge_index = None\n",
    "  sources = [user for user in df['userId']]\n",
    "  destinations = [movie for movie in df['movieId']]\n",
    "  link_vals = df[link_index_col].values\n",
    "\n",
    "  edge_attr = torch.from_numpy(df[link_index_col].values).view(-1, 1).to(torch.long) >= threshold\n",
    "  edge_index = [[],[]]\n",
    "  edge_values = []\n",
    "\n",
    "  for i in range(edge_attr.shape[0]):\n",
    "    if edge_attr[i]:\n",
    "      edge_index[0].append(sources[i])\n",
    "      edge_index[1].append(destinations[i])\n",
    "      edge_values.append(link_vals[i])\n",
    "\n",
    "  return edge_index, edge_values\n"
   ]
  },
  {
   "cell_type": "code",
   "execution_count": 265,
   "metadata": {
    "execution": {
     "iopub.execute_input": "2024-08-09T11:34:51.431801Z",
     "iopub.status.busy": "2024-08-09T11:34:51.431402Z",
     "iopub.status.idle": "2024-08-09T11:34:51.854342Z",
     "shell.execute_reply": "2024-08-09T11:34:51.853356Z",
     "shell.execute_reply.started": "2024-08-09T11:34:51.431776Z"
    },
    "id": "eOeI2a4pWhDJ"
   },
   "outputs": [],
   "source": [
    "# Code cell\n",
    "edge_index, edge_values = load_edge_csv(df_rating, 'userId', 'movieId', 'rating', threshold=1)"
   ]
  },
  {
   "cell_type": "code",
   "execution_count": 266,
   "metadata": {
    "colab": {
     "base_uri": "https://localhost:8080/"
    },
    "execution": {
     "iopub.execute_input": "2024-08-09T11:34:51.858826Z",
     "iopub.status.busy": "2024-08-09T11:34:51.858515Z",
     "iopub.status.idle": "2024-08-09T11:34:51.863332Z",
     "shell.execute_reply": "2024-08-09T11:34:51.862410Z",
     "shell.execute_reply.started": "2024-08-09T11:34:51.858800Z"
    },
    "id": "S3UZhtp8XAgI",
    "outputId": "8bdacfc8-ba43-4a00-b0c0-8ec6760d2f75"
   },
   "outputs": [
    {
     "name": "stdout",
     "output_type": "stream",
     "text": [
      "2 x 99466\n"
     ]
    }
   ],
   "source": [
    "# Code cell\n",
    "print(f'{len(edge_index)} x {len(edge_index[0])}')"
   ]
  },
  {
   "cell_type": "code",
   "execution_count": 267,
   "metadata": {
    "colab": {
     "base_uri": "https://localhost:8080/"
    },
    "execution": {
     "iopub.execute_input": "2024-08-09T11:34:51.864601Z",
     "iopub.status.busy": "2024-08-09T11:34:51.864369Z",
     "iopub.status.idle": "2024-08-09T11:34:51.907358Z",
     "shell.execute_reply": "2024-08-09T11:34:51.906245Z",
     "shell.execute_reply.started": "2024-08-09T11:34:51.864580Z"
    },
    "id": "KVlJN_guXHC1",
    "outputId": "86e91f02-0d00-4d0e-e108-9e891115115d"
   },
   "outputs": [
    {
     "data": {
      "text/plain": [
       "torch.Size([2, 99466])"
      ]
     },
     "execution_count": 267,
     "metadata": {},
     "output_type": "execute_result"
    }
   ],
   "source": [
    "# Code cell\n",
    "edge_index = torch.LongTensor(edge_index)\n",
    "edge_index.size()"
   ]
  },
  {
   "cell_type": "code",
   "execution_count": 268,
   "metadata": {
    "execution": {
     "iopub.execute_input": "2024-08-09T11:34:51.908621Z",
     "iopub.status.busy": "2024-08-09T11:34:51.908379Z",
     "iopub.status.idle": "2024-08-09T11:34:51.926231Z",
     "shell.execute_reply": "2024-08-09T11:34:51.925373Z",
     "shell.execute_reply.started": "2024-08-09T11:34:51.908599Z"
    }
   },
   "outputs": [
    {
     "name": "stderr",
     "output_type": "stream",
     "text": [
      "/tmp/ipykernel_34/1511606919.py:1: UserWarning: To copy construct from a tensor, it is recommended to use sourceTensor.clone().detach() or sourceTensor.clone().detach().requires_grad_(True), rather than torch.tensor(sourceTensor).\n",
      "  edge_values = torch.tensor(edge_index)\n"
     ]
    },
    {
     "data": {
      "text/plain": [
       "torch.Size([2, 99466])"
      ]
     },
     "execution_count": 268,
     "metadata": {},
     "output_type": "execute_result"
    }
   ],
   "source": [
    "# Code cell\n",
    "edge_values = torch.tensor(edge_index)\n",
    "edge_values.size()"
   ]
  },
  {
   "cell_type": "code",
   "execution_count": 269,
   "metadata": {
    "colab": {
     "base_uri": "https://localhost:8080/"
    },
    "execution": {
     "iopub.execute_input": "2024-08-09T11:34:51.927823Z",
     "iopub.status.busy": "2024-08-09T11:34:51.927421Z",
     "iopub.status.idle": "2024-08-09T11:34:51.939623Z",
     "shell.execute_reply": "2024-08-09T11:34:51.938774Z",
     "shell.execute_reply.started": "2024-08-09T11:34:51.927793Z"
    },
    "id": "ZCFxLxt7XUZ5",
    "outputId": "596f0b73-dd70-4f73-fcf4-a7e0f1892852"
   },
   "outputs": [
    {
     "name": "stdout",
     "output_type": "stream",
     "text": [
      "Number of movies: 9724\n",
      "Number of users: 610\n",
      "Number of interactions: 99466\n"
     ]
    }
   ],
   "source": [
    "# Code cell\n",
    "num_movies, num_users = len(df_rating['movieId'].unique()), len(df_rating['userId'].unique())\n",
    "num_interactions = edge_index.shape[1]\n",
    "print(f'Number of movies: {num_movies}')\n",
    "print(f'Number of users: {num_users}')\n",
    "print(f'Number of interactions: {num_interactions}')"
   ]
  },
  {
   "cell_type": "markdown",
   "metadata": {
    "id": "SqG-JB6-YWlw"
   },
   "source": [
    "### Splitting Dataset"
   ]
  },
  {
   "cell_type": "code",
   "execution_count": 270,
   "metadata": {
    "colab": {
     "base_uri": "https://localhost:8080/"
    },
    "execution": {
     "iopub.execute_input": "2024-08-09T11:34:51.940793Z",
     "iopub.status.busy": "2024-08-09T11:34:51.940550Z",
     "iopub.status.idle": "2024-08-09T11:34:52.017963Z",
     "shell.execute_reply": "2024-08-09T11:34:52.017082Z",
     "shell.execute_reply.started": "2024-08-09T11:34:51.940772Z"
    },
    "id": "znLNeHxrYThL",
    "outputId": "0326200c-1e2e-4510-971f-91e5eb396f6d"
   },
   "outputs": [
    {
     "name": "stdout",
     "output_type": "stream",
     "text": [
      "79572\n",
      "9947\n",
      "9947\n"
     ]
    }
   ],
   "source": [
    "# Train the model\n",
    "all_indices = list(range(num_interactions))\n",
    "train_indices, test_indices = train_test_split(all_indices, test_size=0.2, random_state=1)\n",
    "val_indices, test_indices = train_test_split(test_indices, test_size=0.5, random_state=1)\n",
    "\n",
    "train_edge_index = edge_index[:, train_indices]\n",
    "val_edge_index = edge_index[:, val_indices]\n",
    "test_edge_index = edge_index[:, test_indices]\n",
    "print(len(train_edge_index[1]))\n",
    "print(len(val_edge_index[1]))\n",
    "print(len(test_edge_index[1]))"
   ]
  },
  {
   "cell_type": "markdown",
   "metadata": {
    "id": "39j39FrVY_-I"
   },
   "source": [
    "### Conversion of Interaction matrix(R) to Adjacency Matrix(A)"
   ]
  },
  {
   "cell_type": "code",
   "execution_count": 271,
   "metadata": {
    "execution": {
     "iopub.execute_input": "2024-08-09T11:34:52.019550Z",
     "iopub.status.busy": "2024-08-09T11:34:52.019095Z",
     "iopub.status.idle": "2024-08-09T11:34:52.025972Z",
     "shell.execute_reply": "2024-08-09T11:34:52.025046Z",
     "shell.execute_reply.started": "2024-08-09T11:34:52.019510Z"
    },
    "id": "NOjq82zlY97I"
   },
   "outputs": [],
   "source": [
    "# Define functions\n",
    "def R_to_Adjacency_edge_index(edge_index):\n",
    "  R = torch.zeros((num_users, num_movies))\n",
    "  for i in range(edge_index.shape[1]):\n",
    "    R[edge_index[0][i], edge_index[1][i]] = 1\n",
    "  R_T = torch.transpose(R, 0, 1)\n",
    "  A = torch.zeros((num_users+num_movies), (num_users+num_movies))\n",
    "  A[:num_users, num_users:] = R.clone()\n",
    "  A[num_users:, :num_users] = R_T.clone()\n",
    "  A_coo = A.to_sparse_coo()\n",
    "  A_coo = A_coo.indices()\n",
    "  return A_coo"
   ]
  },
  {
   "cell_type": "code",
   "execution_count": 272,
   "metadata": {
    "execution": {
     "iopub.execute_input": "2024-08-09T11:34:52.027477Z",
     "iopub.status.busy": "2024-08-09T11:34:52.027166Z",
     "iopub.status.idle": "2024-08-09T11:34:52.042243Z",
     "shell.execute_reply": "2024-08-09T11:34:52.041435Z",
     "shell.execute_reply.started": "2024-08-09T11:34:52.027448Z"
    },
    "id": "wwX67R1OdFSS"
   },
   "outputs": [],
   "source": [
    "# Define functions\n",
    "def Adjacency_edge_index_to_R_edge_index(edge_index):\n",
    "  values = torch.ones(edge_index.size(1), device='cuda')\n",
    "\n",
    "    # Create a sparse matrix using torch.sparse\n",
    "  sparse_input_edge_mat = torch.sparse_coo_tensor(edge_index, values, size=(num_users + num_movies, num_users + num_movies))\n",
    "  A = sparse_input_edge_mat.to_dense()\n",
    "  R = A[:num_users, num_users:]\n",
    "  R_COO = R.to_sparse_coo()\n",
    "  R_edge_index = R_COO.indices()\n",
    "  return R_edge_index"
   ]
  },
  {
   "cell_type": "code",
   "execution_count": 273,
   "metadata": {
    "execution": {
     "iopub.execute_input": "2024-08-09T11:34:52.043510Z",
     "iopub.status.busy": "2024-08-09T11:34:52.043200Z",
     "iopub.status.idle": "2024-08-09T11:34:54.445204Z",
     "shell.execute_reply": "2024-08-09T11:34:54.444321Z",
     "shell.execute_reply.started": "2024-08-09T11:34:52.043480Z"
    },
    "id": "VCu283xdaOt5"
   },
   "outputs": [],
   "source": [
    "# Train the model\n",
    "train_edge_index = R_to_Adjacency_edge_index(train_edge_index)\n",
    "val_edge_index = R_to_Adjacency_edge_index(val_edge_index)\n",
    "test_edge_index = R_to_Adjacency_edge_index(test_edge_index)"
   ]
  },
  {
   "cell_type": "code",
   "execution_count": 274,
   "metadata": {
    "colab": {
     "base_uri": "https://localhost:8080/"
    },
    "execution": {
     "iopub.execute_input": "2024-08-09T11:34:54.446648Z",
     "iopub.status.busy": "2024-08-09T11:34:54.446347Z",
     "iopub.status.idle": "2024-08-09T11:34:54.451549Z",
     "shell.execute_reply": "2024-08-09T11:34:54.450626Z",
     "shell.execute_reply.started": "2024-08-09T11:34:54.446623Z"
    },
    "id": "O3KGaz1wcKG3",
    "outputId": "386f64fe-7c3d-4204-8940-809552caef36"
   },
   "outputs": [
    {
     "name": "stdout",
     "output_type": "stream",
     "text": [
      "torch.Size([2, 159144])\n",
      "torch.Size([2, 19894])\n",
      "torch.Size([2, 19894])\n"
     ]
    }
   ],
   "source": [
    "# Train the model\n",
    "print(train_adj_edge_index.size())\n",
    "print(val_adj_edge_index.size())\n",
    "print(test_adj_edge_index.size())"
   ]
  },
  {
   "cell_type": "markdown",
   "metadata": {
    "id": "aZ8n4KNcezso"
   },
   "source": [
    "### Training & computing BPR Loss\n",
    "Since this is Self-supervised Learning, we are relying on graph structure itself. So, we will random sample a batch of positives and negatives"
   ]
  },
  {
   "cell_type": "code",
   "execution_count": 275,
   "metadata": {
    "execution": {
     "iopub.execute_input": "2024-08-09T11:34:54.452949Z",
     "iopub.status.busy": "2024-08-09T11:34:54.452664Z",
     "iopub.status.idle": "2024-08-09T11:34:54.463708Z",
     "shell.execute_reply": "2024-08-09T11:34:54.462921Z",
     "shell.execute_reply.started": "2024-08-09T11:34:54.452923Z"
    },
    "id": "hyCxVrExcRAN"
   },
   "outputs": [],
   "source": [
    "# Define functions\n",
    "def sample_mini_batch(batch_size, edge_index): # Note: edge_index is in interactive matrix form\n",
    "  edges = structured_negative_sampling(edge_index)\n",
    "  edges = torch.stack(edges, dim=0)\n",
    "  mini_batch_sample_indices = random.choices(list(range(edges[0].shape[0])), k=batch_size)\n",
    "  mini_batch_edges = edges[:, mini_batch_sample_indices]\n",
    "  user_indices, positive_user_indices, negative_user_indices = mini_batch_edges[0], mini_batch_edges[1], mini_batch_edges[2]\n",
    "  return user_indices, positive_user_indices, negative_user_indices"
   ]
  },
  {
   "cell_type": "markdown",
   "metadata": {
    "id": "J93TM2PjkBxe"
   },
   "source": [
    "## LightGCN Model"
   ]
  },
  {
   "cell_type": "code",
   "execution_count": 276,
   "metadata": {
    "execution": {
     "iopub.execute_input": "2024-08-09T11:34:54.465044Z",
     "iopub.status.busy": "2024-08-09T11:34:54.464773Z",
     "iopub.status.idle": "2024-08-09T11:34:54.476427Z",
     "shell.execute_reply": "2024-08-09T11:34:54.475359Z",
     "shell.execute_reply.started": "2024-08-09T11:34:54.465021Z"
    },
    "id": "Up9gGzmTiurS"
   },
   "outputs": [],
   "source": [
    "# Define functions\n",
    "class LightGCN(MessagePassing):\n",
    "  def __init__(self, num_users, num_movies, embedding_dim=64, K=3, add_self_loops=False): # K = No.of layers\n",
    "    super().__init__()\n",
    "    self.num_users = num_users\n",
    "    self.num_movies = num_movies\n",
    "    self.embedding_dim = embedding_dim\n",
    "    self.K = K\n",
    "    self.add_self_loops = add_self_loops\n",
    "\n",
    "    self.user_embedding = nn.Embedding(num_embeddings=self.num_users, embedding_dim=self.embedding_dim)\n",
    "    self.movie_embedding = nn.Embedding(num_embeddings=self.num_movies, embedding_dim=self.embedding_dim)\n",
    "    self.init_embedding()\n",
    "\n",
    "  def init_embedding(self):\n",
    "    nn.init.normal_(self.user_embedding.weight, std=0.1)\n",
    "    nn.init.normal_(self.movie_embedding.weight, std=0.1)\n",
    "\n",
    "\n",
    "  def forward(self, edge_index):\n",
    "    edge_index_norm = gcn_norm(edge_index, add_self_loops=self.add_self_loops)\n",
    "\n",
    "    emb_0 = torch.cat([self.user_embedding.weight, self.movie_embedding.weight])\n",
    "    embs = [emb_0]\n",
    "    emb_k = emb_0\n",
    "\n",
    "    for i in range(self.K):\n",
    "      emb_k = self.propagate(edge_index=edge_index_norm[0], x=emb_k, norm=edge_index_norm[1])\n",
    "      embs.append(emb_k)\n",
    "\n",
    "    embs = torch.stack(embs, dim=1)\n",
    "    lightgcn_all_embeddings = torch.mean(embs, dim=1)\n",
    "\n",
    "    user_embeddings, movie_embeddings = torch.split(lightgcn_all_embeddings, [self.num_users, self.num_movies])\n",
    "\n",
    "    return user_embeddings, self.user_embedding.weight, movie_embeddings, self.movie_embedding.weight\n",
    "\n",
    "  def message(self, x_j, norm):\n",
    "    return norm.view(-1, 1) * x_j"
   ]
  },
  {
   "cell_type": "markdown",
   "metadata": {
    "id": "Qqf_sxBgw1zL"
   },
   "source": [
    "### Loss Fn"
   ]
  },
  {
   "cell_type": "code",
   "execution_count": 277,
   "metadata": {
    "execution": {
     "iopub.execute_input": "2024-08-09T11:34:54.478173Z",
     "iopub.status.busy": "2024-08-09T11:34:54.477745Z",
     "iopub.status.idle": "2024-08-09T11:34:54.491704Z",
     "shell.execute_reply": "2024-08-09T11:34:54.490795Z",
     "shell.execute_reply.started": "2024-08-09T11:34:54.478142Z"
    },
    "id": "0gvnnu_Vw1ZY"
   },
   "outputs": [],
   "source": [
    "# Define functions\n",
    "def bpr_loss(user_emb_final, user_emb_0, positive_emb_final, positive_emb_0, negative_emb_final, negative_emb_0, lambda_val):\n",
    "  reg_loss = lambda_val * (user_emb_0.norm(2).pow(2) + positive_emb_0.norm(2).pow(2) + negative_emb_0.norm(2).pow(2))\n",
    "\n",
    "  pos_scores = torch.sum(torch.mul(user_emb_final, positive_emb_final), dim=-1)\n",
    "  neg_scores = torch.sum(torch.mul(user_emb_final, negative_emb_final), dim=-1)\n",
    "\n",
    "  bpr_loss = -torch.mean(torch.nn.functional.softplus(neg_scores - pos_scores))\n",
    "\n",
    "  return bpr_loss + reg_loss"
   ]
  },
  {
   "cell_type": "markdown",
   "metadata": {
    "id": "dzkYw6axyJPW"
   },
   "source": [
    "### Evaluation Metrics"
   ]
  },
  {
   "cell_type": "code",
   "execution_count": 278,
   "metadata": {
    "execution": {
     "iopub.execute_input": "2024-08-09T11:34:54.493070Z",
     "iopub.status.busy": "2024-08-09T11:34:54.492801Z",
     "iopub.status.idle": "2024-08-09T11:34:54.507518Z",
     "shell.execute_reply": "2024-08-09T11:34:54.506624Z",
     "shell.execute_reply.started": "2024-08-09T11:34:54.493048Z"
    },
    "id": "1esZxKYdyMeY"
   },
   "outputs": [],
   "source": [
    "# Define functions\n",
    "# Generates positive items dict for each user\n",
    "def get_user_pos_items(edge_index):\n",
    "  user_pos_items={}\n",
    "  for i in range(edge_index.shape[1]):\n",
    "    user = edge_index[0][i].item()\n",
    "    item = edge_index[1][i].item()\n",
    "\n",
    "    if user not in user_pos_items:\n",
    "      user_pos_items[user] = []\n",
    "    user_pos_items[user].append(item)\n",
    "  return user_pos_items\n",
    "\n",
    "# Computes Recall@k, precision@k\n",
    "def RecallPrecision_ATk(groundTruth, r, k):\n",
    "  num_correct_predicted = torch.sum(r, dim=-1)\n",
    "  user_num_liked = torch.Tensor([len(groundTruth[i]) for i in range(len(groundTruth))])\n",
    "\n",
    "  recall = torch.mean(num_correct_predicted / user_num_liked)\n",
    "  precision = torch.mean(num_correct_predicted / k)\n",
    "  return recall.item(), precision.item()\n",
    "\n",
    "# Computes NDCG@k\n",
    "def NDCGatK_r(groundTruth, r, k):\n",
    "  assert len(groundTruth)==len(r)\n",
    "  test_matrix = torch.zeros((len(r), k))\n",
    "\n",
    "  for i, items in enumerate(groundTruth):\n",
    "    length = min(len(items), k)\n",
    "    test_matrix[i, :length] = 1\n",
    "\n",
    "  max_r = test_matrix\n",
    "  idcg = torch.sum(max_r * 1./torch.log2(torch.arange(2, k + 2)), axis=1)\n",
    "  dcg = r * 1./torch.log2(torch.arange(2, k + 2))\n",
    "  dcg = torch.sum(dcg, axis=1)\n",
    "  idcg[idcg == 0.] = 1.\n",
    "  ndcg = dcg/idcg\n",
    "  ndcg[torch.isnan(ndcg)] = 0.\n",
    "  return torch.mean(ndcg).item()"
   ]
  },
  {
   "cell_type": "code",
   "execution_count": 279,
   "metadata": {
    "execution": {
     "iopub.execute_input": "2024-08-09T11:34:54.508988Z",
     "iopub.status.busy": "2024-08-09T11:34:54.508677Z",
     "iopub.status.idle": "2024-08-09T11:34:54.524235Z",
     "shell.execute_reply": "2024-08-09T11:34:54.523444Z",
     "shell.execute_reply.started": "2024-08-09T11:34:54.508943Z"
    },
    "id": "BfqHvUqe0jBj"
   },
   "outputs": [],
   "source": [
    "# Define functions\n",
    "def get_metrics(model, input_edge_index, input_exclude_indices, k):\n",
    "  user_embedding = model.user_embedding.weight\n",
    "  movie_embedding = model.movie_embedding.weight\n",
    "\n",
    "  edge_index = Adjacency_edge_index_to_R_edge_index(input_edge_index)\n",
    "  exclude_edge_indices = [Adjacency_edge_index_to_R_edge_index(input_exclude_indices[i]) for i in range(len(input_exclude_indices))]\n",
    "\n",
    "  r_mat_rating = torch.matmul(user_embedding, movie_embedding.T)\n",
    "  # shape of rating: num_users x num_movies\n",
    "  rating = r_mat_rating\n",
    "\n",
    "  for i in range(len(exclude_edge_indices)):\n",
    "    user_pos_items = get_user_pos_items(exclude_edge_indices[i])\n",
    "    exclude_users = []\n",
    "    exclude_items = []\n",
    "    for user, items in user_pos_items.items():\n",
    "      exclude_users.extend([user]*len(items))\n",
    "      exclude_items.extend(items)\n",
    "\n",
    "    # Set the excluded entry to very small number\n",
    "    rating[exclude_users, exclude_items] = - (1<<10)\n",
    "  # get top k recommended items from each user:\n",
    "  _, top_k_items = torch.topk(rating, k=k)\n",
    "\n",
    "  # get all users in evaluated split\n",
    "  users = edge_index[0].unique()\n",
    "\n",
    "  test_user_pos_items = get_user_pos_items(input_edge_index)\n",
    "  test_user_pos_items_list = [test_user_pos_items[user.item()] for user in users]\n",
    "\n",
    "  r = []\n",
    "  for user in users:\n",
    "    user_true_relevant_item = test_user_pos_items[user.item()]\n",
    "    user_top_k_items = top_k_items[user]\n",
    "    label = list(map(lambda x: x in user_true_relevant_item, user_top_k_items))\n",
    "    r.append(label)\n",
    "\n",
    "  r = torch.Tensor(np.array(r).astype('float'))\n",
    "\n",
    "  recall, precision = RecallPrecision_ATk(test_user_pos_items_list, r, k)\n",
    "  ndcg = NDCGatK_r(test_user_pos_items_list, r, k)\n",
    "\n",
    "  return recall, precision, ndcg\n"
   ]
  },
  {
   "cell_type": "markdown",
   "metadata": {
    "id": "fbc8czqX5EbZ"
   },
   "source": [
    "### Evaluate Model\n"
   ]
  },
  {
   "cell_type": "code",
   "execution_count": 280,
   "metadata": {
    "execution": {
     "iopub.execute_input": "2024-08-09T11:34:54.525836Z",
     "iopub.status.busy": "2024-08-09T11:34:54.525312Z",
     "iopub.status.idle": "2024-08-09T11:34:54.541277Z",
     "shell.execute_reply": "2024-08-09T11:34:54.540450Z",
     "shell.execute_reply.started": "2024-08-09T11:34:54.525804Z"
    },
    "id": "F8ZCtNKX5HVv"
   },
   "outputs": [],
   "source": [
    "# Define functions\n",
    "def evaluate_model(model, edge_index, exclude_indices, k, lambda_val):\n",
    "  # 1. Get embeddings:\n",
    "  user_embeddings, user_embedding_0, movie_embeddings, movie_embedding_0 = model.forward(edge_index)\n",
    "  r_mat_edge_index = Adjacency_edge_index_to_R_edge_index(edge_index)\n",
    "  edges = structured_negative_sampling(r_mat_edge_index, contains_neg_self_loops=False)\n",
    "  user_indices, pos_item_indices, neg_item_indices = edges[0], edges[1], edges[2]\n",
    "\n",
    "  user_emb_final = user_embeddings[user_indices]\n",
    "  pos_emb_final = movie_embeddings[pos_item_indices]\n",
    "  neg_emb_final = movie_embeddings[neg_item_indices]\n",
    "\n",
    "  user_emb_0 = user_embedding_0[user_indices]\n",
    "  pos_emb_0 = movie_embedding_0[pos_item_indices]\n",
    "  neg_emb_0 = movie_embedding_0[neg_item_indices]\n",
    "\n",
    "  recall, precision, ndcg = get_metrics(model, edge_index, exclude_indices, k)\n",
    "  bpr_loss_val = bpr_loss(user_emb_final, user_emb_0, pos_emb_final, pos_emb_0, neg_emb_final, neg_emb_0, lambda_val)\n",
    "\n",
    "  return recall, precision, ndcg, bpr_loss_val"
   ]
  },
  {
   "cell_type": "markdown",
   "metadata": {
    "id": "wHQuoykk6hhg"
   },
   "source": [
    "## Training"
   ]
  },
  {
   "cell_type": "markdown",
   "metadata": {
    "id": "_ISbGtDY7frA"
   },
   "source": [
    "### Hyperparameters"
   ]
  },
  {
   "cell_type": "code",
   "execution_count": 286,
   "metadata": {
    "execution": {
     "iopub.execute_input": "2024-08-09T11:39:32.686241Z",
     "iopub.status.busy": "2024-08-09T11:39:32.685123Z",
     "iopub.status.idle": "2024-08-09T11:39:32.691705Z",
     "shell.execute_reply": "2024-08-09T11:39:32.690575Z",
     "shell.execute_reply.started": "2024-08-09T11:39:32.686195Z"
    },
    "id": "TZw-1yxE6iyB"
   },
   "outputs": [],
   "source": [
    "# Code cell\n",
    "ITERATIONS = 10000\n",
    "EPOCHS = 10\n",
    "BATCH_SIZE = 1024\n",
    "K = 20\n",
    "LR = 1e-2\n",
    "ITERS_PER_EVAL = 200\n",
    "ITERS_PER_LR_DECAY = 200\n",
    "LAMBDA = 1e-6"
   ]
  },
  {
   "cell_type": "markdown",
   "metadata": {
    "id": "qcNQepnK73qb"
   },
   "source": [
    "### Setup"
   ]
  },
  {
   "cell_type": "code",
   "execution_count": 287,
   "metadata": {
    "colab": {
     "base_uri": "https://localhost:8080/"
    },
    "execution": {
     "iopub.execute_input": "2024-08-09T11:39:32.694012Z",
     "iopub.status.busy": "2024-08-09T11:39:32.693624Z",
     "iopub.status.idle": "2024-08-09T11:39:32.724922Z",
     "shell.execute_reply": "2024-08-09T11:39:32.724074Z",
     "shell.execute_reply.started": "2024-08-09T11:39:32.693976Z"
    },
    "id": "afWmlY9O76fj",
    "outputId": "29285360-ee02-4af1-f357-52bf517fd3c4"
   },
   "outputs": [
    {
     "name": "stdout",
     "output_type": "stream",
     "text": [
      "cuda\n"
     ]
    }
   ],
   "source": [
    "# Code cell\n",
    "model = LightGCN(num_users, num_movies, K=3)\n",
    "device = torch.device('cuda' if torch.cuda.is_available() else 'cpu')\n",
    "print(device)"
   ]
  },
  {
   "cell_type": "code",
   "execution_count": 288,
   "metadata": {
    "execution": {
     "iopub.execute_input": "2024-08-09T11:39:32.727167Z",
     "iopub.status.busy": "2024-08-09T11:39:32.726581Z",
     "iopub.status.idle": "2024-08-09T11:39:32.733792Z",
     "shell.execute_reply": "2024-08-09T11:39:32.733039Z",
     "shell.execute_reply.started": "2024-08-09T11:39:32.727135Z"
    },
    "id": "Hfe-v18c8COW"
   },
   "outputs": [],
   "source": [
    "# Train the model\n",
    "model = model.to(device)\n",
    "\n",
    "model.train()\n",
    "\n",
    "optimizer = optim.Adam(model.parameters(), lr=LR)\n",
    "scheduler = optim.lr_scheduler.ExponentialLR(optimizer, gamma=0.95)\n",
    "\n",
    "edge_index = edge_index.to(device)\n",
    "train_edge_index = train_edge_index.to(device)\n",
    "val_edge_index = val_edge_index.to(device)\n",
    "test_edge_index = test_edge_index.to(device)"
   ]
  },
  {
   "cell_type": "code",
   "execution_count": 289,
   "metadata": {
    "execution": {
     "iopub.execute_input": "2024-08-09T11:39:32.736720Z",
     "iopub.status.busy": "2024-08-09T11:39:32.736065Z",
     "iopub.status.idle": "2024-08-09T11:39:32.745404Z",
     "shell.execute_reply": "2024-08-09T11:39:32.744607Z",
     "shell.execute_reply.started": "2024-08-09T11:39:32.736686Z"
    },
    "id": "phQLV8UT8nOj"
   },
   "outputs": [],
   "source": [
    "# Define functions\n",
    "# Helper func to get embeddings for BPR loss\n",
    "def get_embs_for_bpr(model, edge_index):\n",
    "  user_embeddings, user_embedding_0, movie_embeddings, movie_embedding_0 = model.forward(edge_index)\n",
    "\n",
    "  edge_index_to_use = Adjacency_edge_index_to_R_edge_index(edge_index)\n",
    "\n",
    "  user_indices, pos_item_indices, neg_item_indices = sample_mini_batch(BATCH_SIZE, edge_index_to_use)\n",
    "\n",
    "  user_indices = user_indices.to(device)\n",
    "  pos_item_indices = pos_item_indices.to(device)\n",
    "  neg_item_indices = neg_item_indices.to(device)\n",
    "  user_emb_final = user_embeddings[user_indices]\n",
    "  pos_emb_final = movie_embeddings[pos_item_indices]\n",
    "  neg_emb_final = movie_embeddings[neg_item_indices]\n",
    "  user_emb_0 = user_embedding_0[user_indices]\n",
    "  pos_emb_0 = movie_embedding_0[pos_item_indices]\n",
    "  neg_emb_0 = movie_embedding_0[neg_item_indices]\n",
    "\n",
    "  return user_emb_final, pos_emb_final, neg_emb_final, user_emb_0, pos_emb_0, neg_emb_0"
   ]
  },
  {
   "cell_type": "markdown",
   "metadata": {
    "id": "eOAJm_N79TsN"
   },
   "source": [
    "### Training loop"
   ]
  },
  {
   "cell_type": "code",
   "execution_count": 290,
   "metadata": {
    "colab": {
     "base_uri": "https://localhost:8080/",
     "height": 962,
     "referenced_widgets": [
      "96f7c37570b44beebbacbbe1bbb3bd4f",
      "944dfe5672b243a493631a16e554494e",
      "fb2f7178087d4d2eb6bf9a57ab1e501e",
      "a2d94911c6584013ae46b02ef53cb3c6",
      "b4daf3e1d2354d44a70bbaf98660d905",
      "1c3a7fd4cd394f55b245053b25c5a7ac",
      "40ba21bc2f8943bfb7bb47898d805765",
      "6b009c3db6b64c058fe17ebb4d25fc8a",
      "051ac13b99fc435d8d82de838cc5bf72",
      "35674005d4e540a8aadd5c6788d18fe5",
      "27b38b6ab74442f5b5d60b5a20d97b50"
     ]
    },
    "execution": {
     "iopub.execute_input": "2024-08-09T11:39:32.746574Z",
     "iopub.status.busy": "2024-08-09T11:39:32.746333Z",
     "iopub.status.idle": "2024-08-09T11:52:07.254044Z",
     "shell.execute_reply": "2024-08-09T11:52:07.253047Z",
     "shell.execute_reply.started": "2024-08-09T11:39:32.746552Z"
    },
    "id": "iTTmpcGd9VMK",
    "outputId": "0851aa39-73ae-4da2-bceb-6a85fd347aeb"
   },
   "outputs": [
    {
     "data": {
      "application/vnd.jupyter.widget-view+json": {
       "model_id": "af5832e537644a4c9e69f6b77c4dc86a",
       "version_major": 2,
       "version_minor": 0
      },
      "text/plain": [
       "  0%|          | 0/10000 [00:00<?, ?it/s]"
      ]
     },
     "metadata": {},
     "output_type": "display_data"
    },
    {
     "name": "stdout",
     "output_type": "stream",
     "text": [
      "[Iteration 0/10000] train_BPR_loss: -0.6902770400047302, val_BPR Loss: -0.6663734912872314, Recall: 0.0008100141421891749, Precision: 0.0009166667005047202, NDCG: 0.0011020890669897199\n",
      "[Iteration 200/10000] train_BPR_loss: -26.980113983154297, val_BPR Loss: -11.844123840332031, Recall: 0.0037586847320199013, Precision: 0.001416666666045785, NDCG: 0.0022203971166163683\n",
      "[Iteration 400/10000] train_BPR_loss: -118.60968017578125, val_BPR Loss: -52.000431060791016, Recall: 0.005049459170550108, Precision: 0.003416666528210044, NDCG: 0.00428718701004982\n",
      "[Iteration 600/10000] train_BPR_loss: -275.01123046875, val_BPR Loss: -111.92060089111328, Recall: 0.004916463512927294, Precision: 0.002250000135973096, NDCG: 0.003940091002732515\n",
      "[Iteration 800/10000] train_BPR_loss: -414.764892578125, val_BPR Loss: -185.4910888671875, Recall: 0.0047150603495538235, Precision: 0.0020000000949949026, NDCG: 0.004125772509723902\n",
      "[Iteration 1000/10000] train_BPR_loss: -653.6842041015625, val_BPR Loss: -274.18792724609375, Recall: 0.004179565701633692, Precision: 0.0020000000949949026, NDCG: 0.003292117966338992\n",
      "[Iteration 1200/10000] train_BPR_loss: -887.6651611328125, val_BPR Loss: -364.03076171875, Recall: 0.003867838066071272, Precision: 0.0017499999376013875, NDCG: 0.003272244706749916\n",
      "[Iteration 1400/10000] train_BPR_loss: -1161.438232421875, val_BPR Loss: -462.91119384765625, Recall: 0.004046912770718336, Precision: 0.001999999862164259, NDCG: 0.0033709306735545397\n",
      "[Iteration 1600/10000] train_BPR_loss: -1278.5618896484375, val_BPR Loss: -567.4104614257812, Recall: 0.0043601845391094685, Precision: 0.0020833334419876337, NDCG: 0.0035793057177215815\n",
      "[Iteration 1800/10000] train_BPR_loss: -1820.1412353515625, val_BPR Loss: -675.59326171875, Recall: 0.004271385725587606, Precision: 0.0018333334010094404, NDCG: 0.00332512310706079\n",
      "[Iteration 2000/10000] train_BPR_loss: -2028.8333740234375, val_BPR Loss: -795.0205078125, Recall: 0.004309056792408228, Precision: 0.0020000000949949026, NDCG: 0.0034479438327252865\n",
      "[Iteration 2200/10000] train_BPR_loss: -2255.00390625, val_BPR Loss: -888.40673828125, Recall: 0.0042867837473750114, Precision: 0.0020000000949949026, NDCG: 0.0034550849813967943\n",
      "[Iteration 2400/10000] train_BPR_loss: -2365.161865234375, val_BPR Loss: -1008.982666015625, Recall: 0.004303790163248777, Precision: 0.0020833334419876337, NDCG: 0.003483302192762494\n",
      "[Iteration 2600/10000] train_BPR_loss: -2637.158203125, val_BPR Loss: -1101.8330078125, Recall: 0.004310938064008951, Precision: 0.0020833334419876337, NDCG: 0.0035457639023661613\n",
      "[Iteration 2800/10000] train_BPR_loss: -2759.735107421875, val_BPR Loss: -1211.46240234375, Recall: 0.004310938064008951, Precision: 0.0020833334419876337, NDCG: 0.003571122884750366\n",
      "[Iteration 3000/10000] train_BPR_loss: -3016.2666015625, val_BPR Loss: -1302.2598876953125, Recall: 0.004294912330806255, Precision: 0.0020000000949949026, NDCG: 0.0035119832027703524\n",
      "[Iteration 3200/10000] train_BPR_loss: -3508.72607421875, val_BPR Loss: -1395.298583984375, Recall: 0.004310938064008951, Precision: 0.0020833334419876337, NDCG: 0.0037096929736435413\n",
      "[Iteration 3400/10000] train_BPR_loss: -3731.607177734375, val_BPR Loss: -1510.1708984375, Recall: 0.004157191142439842, Precision: 0.0020833334419876337, NDCG: 0.0036905272863805294\n",
      "[Iteration 3600/10000] train_BPR_loss: -3711.3837890625, val_BPR Loss: -1549.875, Recall: 0.004157191142439842, Precision: 0.0020833334419876337, NDCG: 0.003691295860335231\n",
      "[Iteration 3800/10000] train_BPR_loss: -4003.842529296875, val_BPR Loss: -1685.81884765625, Recall: 0.004202893935143948, Precision: 0.0020833334419876337, NDCG: 0.0036829160526394844\n",
      "[Iteration 4000/10000] train_BPR_loss: -4583.93017578125, val_BPR Loss: -1754.9949951171875, Recall: 0.004202893935143948, Precision: 0.0020833334419876337, NDCG: 0.0033596325665712357\n",
      "[Iteration 4200/10000] train_BPR_loss: -4765.59423828125, val_BPR Loss: -1863.0341796875, Recall: 0.004196983762085438, Precision: 0.0020000000949949026, NDCG: 0.0036457062233239412\n",
      "[Iteration 4400/10000] train_BPR_loss: -4646.10546875, val_BPR Loss: -1891.83349609375, Recall: 0.004196983762085438, Precision: 0.0020000000949949026, NDCG: 0.003661214606836438\n",
      "[Iteration 4600/10000] train_BPR_loss: -4962.72607421875, val_BPR Loss: -2004.307861328125, Recall: 0.004202893935143948, Precision: 0.0020833334419876337, NDCG: 0.0036983382888138294\n",
      "[Iteration 4800/10000] train_BPR_loss: -5101.24755859375, val_BPR Loss: -2042.57373046875, Recall: 0.004202893935143948, Precision: 0.0020833334419876337, NDCG: 0.0036987396888434887\n",
      "[Iteration 5000/10000] train_BPR_loss: -5782.3193359375, val_BPR Loss: -2127.07080078125, Recall: 0.004208804108202457, Precision: 0.002166666788980365, NDCG: 0.003751016454771161\n",
      "[Iteration 5200/10000] train_BPR_loss: -5738.3671875, val_BPR Loss: -2179.78173828125, Recall: 0.004208804108202457, Precision: 0.002166666788980365, NDCG: 0.003751596203073859\n",
      "[Iteration 5400/10000] train_BPR_loss: -6065.13623046875, val_BPR Loss: -2268.883544921875, Recall: 0.004202893935143948, Precision: 0.0020833334419876337, NDCG: 0.0036923312582075596\n",
      "[Iteration 5600/10000] train_BPR_loss: -5902.20068359375, val_BPR Loss: -2313.500244140625, Recall: 0.004202893935143948, Precision: 0.0020833334419876337, NDCG: 0.0033470061607658863\n",
      "[Iteration 5800/10000] train_BPR_loss: -6191.40478515625, val_BPR Loss: -2360.74951171875, Recall: 0.004202893935143948, Precision: 0.0020833334419876337, NDCG: 0.0033242080826312304\n",
      "[Iteration 6000/10000] train_BPR_loss: -6565.14453125, val_BPR Loss: -2427.121337890625, Recall: 0.004202893935143948, Precision: 0.0020833334419876337, NDCG: 0.003317647846415639\n",
      "[Iteration 6200/10000] train_BPR_loss: -6372.197265625, val_BPR Loss: -2443.82421875, Recall: 0.004196983762085438, Precision: 0.0020000000949949026, NDCG: 0.0032607356552034616\n",
      "[Iteration 6400/10000] train_BPR_loss: -5561.95263671875, val_BPR Loss: -2553.51220703125, Recall: 0.004202893935143948, Precision: 0.0020833334419876337, NDCG: 0.0033199412282556295\n",
      "[Iteration 6600/10000] train_BPR_loss: -6731.25048828125, val_BPR Loss: -2582.298583984375, Recall: 0.004196983762085438, Precision: 0.0020000000949949026, NDCG: 0.0032692288514226675\n",
      "[Iteration 6800/10000] train_BPR_loss: -6359.259765625, val_BPR Loss: -2649.763671875, Recall: 0.004196983762085438, Precision: 0.0020000000949949026, NDCG: 0.0032676069531589746\n",
      "[Iteration 7000/10000] train_BPR_loss: -6364.291015625, val_BPR Loss: -2666.96533203125, Recall: 0.004202893935143948, Precision: 0.0020833334419876337, NDCG: 0.003325720550492406\n",
      "[Iteration 7200/10000] train_BPR_loss: -7327.05517578125, val_BPR Loss: -2727.76806640625, Recall: 0.004196983762085438, Precision: 0.0020000000949949026, NDCG: 0.0032688297796994448\n",
      "[Iteration 7400/10000] train_BPR_loss: -6931.54638671875, val_BPR Loss: -2806.447265625, Recall: 0.004202893935143948, Precision: 0.0020833334419876337, NDCG: 0.0033227268140763044\n",
      "[Iteration 7600/10000] train_BPR_loss: -7094.7939453125, val_BPR Loss: -2805.48046875, Recall: 0.004202893935143948, Precision: 0.0020833334419876337, NDCG: 0.0033259119372814894\n",
      "[Iteration 7800/10000] train_BPR_loss: -7390.15087890625, val_BPR Loss: -2835.749267578125, Recall: 0.004202893935143948, Precision: 0.0020833334419876337, NDCG: 0.003315158188343048\n",
      "[Iteration 8000/10000] train_BPR_loss: -7704.5048828125, val_BPR Loss: -2874.9638671875, Recall: 0.004202893935143948, Precision: 0.0020833334419876337, NDCG: 0.003317197784781456\n",
      "[Iteration 8200/10000] train_BPR_loss: -6900.60400390625, val_BPR Loss: -2886.16845703125, Recall: 0.004202893935143948, Precision: 0.0020833334419876337, NDCG: 0.003316052258014679\n",
      "[Iteration 8400/10000] train_BPR_loss: -7292.21240234375, val_BPR Loss: -2924.19677734375, Recall: 0.004202893935143948, Precision: 0.0020833334419876337, NDCG: 0.003317197784781456\n",
      "[Iteration 8600/10000] train_BPR_loss: -7152.1220703125, val_BPR Loss: -2940.8505859375, Recall: 0.004196983762085438, Precision: 0.0020000000949949026, NDCG: 0.003261277452111244\n",
      "[Iteration 8800/10000] train_BPR_loss: -6939.5986328125, val_BPR Loss: -2975.2978515625, Recall: 0.004196983762085438, Precision: 0.0020000000949949026, NDCG: 0.003260271856561303\n",
      "[Iteration 9000/10000] train_BPR_loss: -7243.99365234375, val_BPR Loss: -3007.91162109375, Recall: 0.004196983762085438, Precision: 0.0020000000949949026, NDCG: 0.003260271856561303\n",
      "[Iteration 9200/10000] train_BPR_loss: -7265.064453125, val_BPR Loss: -3068.499755859375, Recall: 0.004196983762085438, Precision: 0.0020000000949949026, NDCG: 0.0032575454097241163\n",
      "[Iteration 9400/10000] train_BPR_loss: -8407.5283203125, val_BPR Loss: -3124.673828125, Recall: 0.004196983762085438, Precision: 0.0020000000949949026, NDCG: 0.0032586909364908934\n",
      "[Iteration 9600/10000] train_BPR_loss: -8248.435546875, val_BPR Loss: -3158.420166015625, Recall: 0.004196983762085438, Precision: 0.0020000000949949026, NDCG: 0.0032601510174572468\n",
      "[Iteration 9800/10000] train_BPR_loss: -7390.728515625, val_BPR Loss: -3160.8359375, Recall: 0.004196983762085438, Precision: 0.0020000000949949026, NDCG: 0.003249992849305272\n"
     ]
    }
   ],
   "source": [
    "# Train the model\n",
    "train_losses = []\n",
    "val_losses = []\n",
    "val_recall_at_k = []\n",
    "val_precision_at_k = []\n",
    "\n",
    "for iter in tqdm(range(ITERATIONS)):\n",
    "  user_emb_final, pos_emb_final, neg_emb_final, user_emb_0, pos_emb_0, neg_emb_0 = get_embs_for_bpr(model, train_edge_index)\n",
    "\n",
    "  bpr_loss_val = bpr_loss(user_emb_final, user_emb_0, pos_emb_final, pos_emb_0, neg_emb_final, neg_emb_0, LAMBDA)\n",
    "\n",
    "  optimizer.zero_grad()\n",
    "  bpr_loss_val.backward()\n",
    "  optimizer.step()\n",
    "\n",
    "  # val set\n",
    "  if iter % ITERS_PER_EVAL == 0:\n",
    "    model.eval()\n",
    "\n",
    "    with torch.no_grad():\n",
    "      val_recall, val_precision, val_ndcg, val_bpr_loss = evaluate_model(model, val_edge_index, [train_edge_index], K, LAMBDA)\n",
    "      print(f\"[Iteration {iter}/{ITERATIONS}] train_BPR_loss: {bpr_loss_val}, val_BPR Loss: {val_bpr_loss}, Recall: {val_recall}, Precision: {val_precision}, NDCG: {val_ndcg}\")\n",
    "\n",
    "      train_losses.append(bpr_loss_val.item())\n",
    "      val_losses.append(val_bpr_loss.item())\n",
    "      val_recall_at_k.append(val_recall)\n",
    "      val_precision_at_k.append(val_precision)\n",
    "\n",
    "    model.train()\n",
    "\n",
    "  if iter % ITERS_PER_LR_DECAY == 0 and iter != 0:\n",
    "    scheduler.step()"
   ]
  },
  {
   "cell_type": "markdown",
   "metadata": {
    "id": "I1B0Ra3DFR04"
   },
   "source": [
    "## Plotting"
   ]
  },
  {
   "cell_type": "code",
   "execution_count": 291,
   "metadata": {
    "colab": {
     "base_uri": "https://localhost:8080/",
     "height": 472
    },
    "execution": {
     "iopub.execute_input": "2024-08-09T11:52:07.255612Z",
     "iopub.status.busy": "2024-08-09T11:52:07.255322Z",
     "iopub.status.idle": "2024-08-09T11:52:07.550650Z",
     "shell.execute_reply": "2024-08-09T11:52:07.549745Z",
     "shell.execute_reply.started": "2024-08-09T11:52:07.255586Z"
    },
    "id": "nbbGGvQREIZJ",
    "outputId": "bd3a6fc2-381e-4c96-a8e4-769af0a66c13"
   },
   "outputs": [
    {
     "data": {
      "image/png": "[encoded data removed]",
      "text/plain": [
       "<Figure size 640x480 with 1 Axes>"
      ]
     },
     "metadata": {},
     "output_type": "display_data"
    }
   ],
   "source": [
    "iters = [iter * ITERS_PER_EVAL for iter in range(len(train_losses))]\n",
    "plt.plot(iters, train_losses, label='train')\n",
    "plt.plot(iters, val_losses, label='val')\n",
    "plt.xlabel('iteration')\n",
    "plt.ylabel('loss')\n",
    "plt.title('Training and Validation loss curves')\n",
    "plt.legend()\n",
    "plt.show()"
   ]
  },
  {
   "cell_type": "code",
   "execution_count": 292,
   "metadata": {
    "colab": {
     "base_uri": "https://localhost:8080/",
     "height": 472
    },
    "execution": {
     "iopub.execute_input": "2024-08-09T11:52:07.552468Z",
     "iopub.status.busy": "2024-08-09T11:52:07.552105Z",
     "iopub.status.idle": "2024-08-09T11:52:07.810007Z",
     "shell.execute_reply": "2024-08-09T11:52:07.809148Z",
     "shell.execute_reply.started": "2024-08-09T11:52:07.552434Z"
    },
    "id": "8rCmF7RYFTT5",
    "outputId": "ca317b91-9aee-45e7-9d9d-a0c1fb6b1d0d"
   },
   "outputs": [
    {
     "data": {
      "image/png": "[encoded data removed]",
      "text/plain": [
       "<Figure size 640x480 with 1 Axes>"
      ]
     },
     "metadata": {},
     "output_type": "display_data"
    }
   ],
   "source": [
    "# Code cell\n",
    "f2 = plt.figure()\n",
    "plt.plot(iters, val_recall_at_k, label='val_recall')\n",
    "plt.xlabel('iteration')\n",
    "plt.ylabel('recall')\n",
    "plt.title('Validation Recall curves')\n",
    "plt.legend()\n",
    "plt.show()"
   ]
  },
  {
   "cell_type": "markdown",
   "metadata": {
    "id": "GzS_43m3FkAZ"
   },
   "source": [
    "## Evaluation"
   ]
  },
  {
   "cell_type": "code",
   "execution_count": 293,
   "metadata": {
    "colab": {
     "base_uri": "https://localhost:8080/"
    },
    "execution": {
     "iopub.execute_input": "2024-08-09T11:52:07.811652Z",
     "iopub.status.busy": "2024-08-09T11:52:07.811296Z",
     "iopub.status.idle": "2024-08-09T11:52:16.606075Z",
     "shell.execute_reply": "2024-08-09T11:52:16.605132Z",
     "shell.execute_reply.started": "2024-08-09T11:52:07.811617Z"
    },
    "id": "YK1VDllNFdNf",
    "outputId": "f911ec34-5978-4826-c12b-d0f7e05202bf"
   },
   "outputs": [
    {
     "name": "stdout",
     "output_type": "stream",
     "text": [
      "test_BPR Loss: -3301.60986328125, Recall: 0.004208520986139774, Precision: 0.002192242769524455, NDCG: 0.003688263474032283\n"
     ]
    }
   ],
   "source": [
    "# Eval the model\n",
    "model.eval()\n",
    "test_edge_index = test_edge_index.to(device)\n",
    "test_recall, test_precision, test_ndcg, test_bpr_loss = evaluate_model(model, test_edge_index, [train_edge_index, val_edge_index], K, LAMBDA)\n",
    "print(f\"test_BPR Loss: {test_bpr_loss}, Recall: {test_recall}, Precision: {test_precision}, NDCG: {test_ndcg}\")"
   ]
  }
 ],
 "metadata": {
  "accelerator": "GPU",
  "colab": {
   "gpuType": "T4",
   "provenance": []
  },
  "kaggle": {
   "accelerator": "gpu",
   "dataSources": [],
   "dockerImageVersionId": 30746,
   "isGpuEnabled": true,
   "isInternetEnabled": true,
   "language": "python",
   "sourceType": "notebook"
  },
  "kernelspec": {
   "display_name": "Python 3",
   "name": "python3"
  },
  "language_info": {
   "name": "python"
  },
  "widgets": {
   "application/vnd.jupyter.widget-state+json": {
    "051ac13b99fc435d8d82de838cc5bf72": {
     "model_module": "@jupyter-widgets/controls",
     "model_module_version": "1.5.0",
     "model_name": "ProgressStyleModel",
     "state": {
      "_model_module": "@jupyter-widgets/controls",
      "_model_module_version": "1.5.0",
      "_model_name": "ProgressStyleModel",
      "_view_count": null,
      "_view_module": "@jupyter-widgets/base",
      "_view_module_version": "1.2.0",
      "_view_name": "StyleView",
      "bar_color": null,
      "description_width": ""
     }
    },
    "1c3a7fd4cd394f55b245053b25c5a7ac": {
     "model_module": "@jupyter-widgets/base",
     "model_module_version": "1.2.0",
     "model_name": "LayoutModel",
     "state": {
      "_model_module": "@jupyter-widgets/base",
      "_model_module_version": "1.2.0",
      "_model_name": "LayoutModel",
      "_view_count": null,
      "_view_module": "@jupyter-widgets/base",
      "_view_module_version": "1.2.0",
      "_view_name": "LayoutView",
      "align_content": null,
      "align_items": null,
      "align_self": null,
      "border": null,
      "bottom": null,
      "display": null,
      "flex": null,
      "flex_flow": null,
      "grid_area": null,
      "grid_auto_columns": null,
      "grid_auto_flow": null,
      "grid_auto_rows": null,
      "grid_column": null,
      "grid_gap": null,
      "grid_row": null,
      "grid_template_areas": null,
      "grid_template_columns": null,
      "grid_template_rows": null,
      "height": null,
      "justify_content": null,
      "justify_items": null,
      "left": null,
      "margin": null,
      "max_height": null,
      "max_width": null,
      "min_height": null,
      "min_width": null,
      "object_fit": null,
      "object_position": null,
      "order": null,
      "overflow": null,
      "overflow_x": null,
      "overflow_y": null,
      "padding": null,
      "right": null,
      "top": null,
      "visibility": null,
      "width": null
     }
    },
    "27b38b6ab74442f5b5d60b5a20d97b50": {
     "model_module": "@jupyter-widgets/controls",
     "model_module_version": "1.5.0",
     "model_name": "DescriptionStyleModel",
     "state": {
      "_model_module": "@jupyter-widgets/controls",
      "_model_module_version": "1.5.0",
      "_model_name": "DescriptionStyleModel",
      "_view_count": null,
      "_view_module": "@jupyter-widgets/base",
      "_view_module_version": "1.2.0",
      "_view_name": "StyleView",
      "description_width": ""
     }
    },
    "35674005d4e540a8aadd5c6788d18fe5": {
     "model_module": "@jupyter-widgets/base",
     "model_module_version": "1.2.0",
     "model_name": "LayoutModel",
     "state": {
      "_model_module": "@jupyter-widgets/base",
      "_model_module_version": "1.2.0",
      "_model_name": "LayoutModel",
      "_view_count": null,
      "_view_module": "@jupyter-widgets/base",
      "_view_module_version": "1.2.0",
      "_view_name": "LayoutView",
      "align_content": null,
      "align_items": null,
      "align_self": null,
      "border": null,
      "bottom": null,
      "display": null,
      "flex": null,
      "flex_flow": null,
      "grid_area": null,
      "grid_auto_columns": null,
      "grid_auto_flow": null,
      "grid_auto_rows": null,
      "grid_column": null,
      "grid_gap": null,
      "grid_row": null,
      "grid_template_areas": null,
      "grid_template_columns": null,
      "grid_template_rows": null,
      "height": null,
      "justify_content": null,
      "justify_items": null,
      "left": null,
      "margin": null,
      "max_height": null,
      "max_width": null,
      "min_height": null,
      "min_width": null,
      "object_fit": null,
      "object_position": null,
      "order": null,
      "overflow": null,
      "overflow_x": null,
      "overflow_y": null,
      "padding": null,
      "right": null,
      "top": null,
      "visibility": null,
      "width": null
     }
    },
    "40ba21bc2f8943bfb7bb47898d805765": {
     "model_module": "@jupyter-widgets/controls",
     "model_module_version": "1.5.0",
     "model_name": "DescriptionStyleModel",
     "state": {
      "_model_module": "@jupyter-widgets/controls",
      "_model_module_version": "1.5.0",
      "_model_name": "DescriptionStyleModel",
      "_view_count": null,
      "_view_module": "@jupyter-widgets/base",
      "_view_module_version": "1.2.0",
      "_view_name": "StyleView",
      "description_width": ""
     }
    },
    "6b009c3db6b64c058fe17ebb4d25fc8a": {
     "model_module": "@jupyter-widgets/base",
     "model_module_version": "1.2.0",
     "model_name": "LayoutModel",
     "state": {
      "_model_module": "@jupyter-widgets/base",
      "_model_module_version": "1.2.0",
      "_model_name": "LayoutModel",
      "_view_count": null,
      "_view_module": "@jupyter-widgets/base",
      "_view_module_version": "1.2.0",
      "_view_name": "LayoutView",
      "align_content": null,
      "align_items": null,
      "align_self": null,
      "border": null,
      "bottom": null,
      "display": null,
      "flex": null,
      "flex_flow": null,
      "grid_area": null,
      "grid_auto_columns": null,
      "grid_auto_flow": null,
      "grid_auto_rows": null,
      "grid_column": null,
      "grid_gap": null,
      "grid_row": null,
      "grid_template_areas": null,
      "grid_template_columns": null,
      "grid_template_rows": null,
      "height": null,
      "justify_content": null,
      "justify_items": null,
      "left": null,
      "margin": null,
      "max_height": null,
      "max_width": null,
      "min_height": null,
      "min_width": null,
      "object_fit": null,
      "object_position": null,
      "order": null,
      "overflow": null,
      "overflow_x": null,
      "overflow_y": null,
      "padding": null,
      "right": null,
      "top": null,
      "visibility": null,
      "width": null
     }
    },
    "944dfe5672b243a493631a16e554494e": {
     "model_module": "@jupyter-widgets/controls",
     "model_module_version": "1.5.0",
     "model_name": "HTMLModel",
     "state": {
      "_dom_classes": [],
      "_model_module": "@jupyter-widgets/controls",
      "_model_module_version": "1.5.0",
      "_model_name": "HTMLModel",
      "_view_count": null,
      "_view_module": "@jupyter-widgets/controls",
      "_view_module_version": "1.5.0",
      "_view_name": "HTMLView",
      "description": "",
      "description_tooltip": null,
      "layout": "IPY_MODEL_1c3a7fd4cd394f55b245053b25c5a7ac",
      "placeholder": "​",
      "style": "IPY_MODEL_40ba21bc2f8943bfb7bb47898d805765",
      "value": "100%"
     }
    },
    "96f7c37570b44beebbacbbe1bbb3bd4f": {
     "model_module": "@jupyter-widgets/controls",
     "model_module_version": "1.5.0",
     "model_name": "HBoxModel",
     "state": {
      "_dom_classes": [],
      "_model_module": "@jupyter-widgets/controls",
      "_model_module_version": "1.5.0",
      "_model_name": "HBoxModel",
      "_view_count": null,
      "_view_module": "@jupyter-widgets/controls",
      "_view_module_version": "1.5.0",
      "_view_name": "HBoxView",
      "box_style": "",
      "children": [
       "IPY_MODEL_944dfe5672b243a493631a16e554494e",
       "IPY_MODEL_fb2f7178087d4d2eb6bf9a57ab1e501e",
       "IPY_MODEL_a2d94911c6584013ae46b02ef53cb3c6"
      ],
      "layout": "IPY_MODEL_b4daf3e1d2354d44a70bbaf98660d905"
     }
    },
    "a2d94911c6584013ae46b02ef53cb3c6": {
     "model_module": "@jupyter-widgets/controls",
     "model_module_version": "1.5.0",
     "model_name": "HTMLModel",
     "state": {
      "_dom_classes": [],
      "_model_module": "@jupyter-widgets/controls",
      "_model_module_version": "1.5.0",
      "_model_name": "HTMLModel",
      "_view_count": null,
      "_view_module": "@jupyter-widgets/controls",
      "_view_module_version": "1.5.0",
      "_view_name": "HTMLView",
      "description": "",
      "description_tooltip": null,
      "layout": "IPY_MODEL_35674005d4e540a8aadd5c6788d18fe5",
      "placeholder": "​",
      "style": "IPY_MODEL_27b38b6ab74442f5b5d60b5a20d97b50",
      "value": " 10000/10000 [05:55&lt;00:00, 64.43it/s]"
     }
    },
    "b4daf3e1d2354d44a70bbaf98660d905": {
     "model_module": "@jupyter-widgets/base",
     "model_module_version": "1.2.0",
     "model_name": "LayoutModel",
     "state": {
      "_model_module": "@jupyter-widgets/base",
      "_model_module_version": "1.2.0",
      "_model_name": "LayoutModel",
      "_view_count": null,
      "_view_module": "@jupyter-widgets/base",
      "_view_module_version": "1.2.0",
      "_view_name": "LayoutView",
      "align_content": null,
      "align_items": null,
      "align_self": null,
      "border": null,
      "bottom": null,
      "display": null,
      "flex": null,
      "flex_flow": null,
      "grid_area": null,
      "grid_auto_columns": null,
      "grid_auto_flow": null,
      "grid_auto_rows": null,
      "grid_column": null,
      "grid_gap": null,
      "grid_row": null,
      "grid_template_areas": null,
      "grid_template_columns": null,
      "grid_template_rows": null,
      "height": null,
      "justify_content": null,
      "justify_items": null,
      "left": null,
      "margin": null,
      "max_height": null,
      "max_width": null,
      "min_height": null,
      "min_width": null,
      "object_fit": null,
      "object_position": null,
      "order": null,
      "overflow": null,
      "overflow_x": null,
      "overflow_y": null,
      "padding": null,
      "right": null,
      "top": null,
      "visibility": null,
      "width": null
     }
    },
    "fb2f7178087d4d2eb6bf9a57ab1e501e": {
     "model_module": "@jupyter-widgets/controls",
     "model_module_version": "1.5.0",
     "model_name": "FloatProgressModel",
     "state": {
      "_dom_classes": [],
      "_model_module": "@jupyter-widgets/controls",
      "_model_module_version": "1.5.0",
      "_model_name": "FloatProgressModel",
      "_view_count": null,
      "_view_module": "@jupyter-widgets/controls",
      "_view_module_version": "1.5.0",
      "_view_name": "ProgressView",
      "bar_style": "success",
      "description": "",
      "description_tooltip": null,
      "layout": "IPY_MODEL_6b009c3db6b64c058fe17ebb4d25fc8a",
      "max": 10000,
      "min": 0,
      "orientation": "horizontal",
      "style": "IPY_MODEL_051ac13b99fc435d8d82de838cc5bf72",
      "value": 10000
     }
    }
   }
  }
 },
 "nbformat": 4,
 "nbformat_minor": 4
}
