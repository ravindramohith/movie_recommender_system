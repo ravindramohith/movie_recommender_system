{
 "cells": [
  {
   "cell_type": "markdown",
   "id": "6698729e",
   "metadata": {},
   "source": [
    "\n",
    "# Recommender System using Supervised Graph Neural Networks\n",
    "\n",
    "## Overview\n",
    "This project implements a recommender system using supervised learning techniques with Graph Neural Networks (GNNs). The approach leverages the inherent structure of the data and supervised learning of **LightGCN** to enhance the recommendation quality without relying on labeled data.\n",
    "\n",
    "## Features\n",
    "- supervised learning with LightGCN (GNN)\n",
    "- Efficient handling of graph-structured data\n",
    "- Enhanced recommendation performance through advanced neural network techniques\n",
    "\n",
    "## Usage\n",
    "To run the project, execute the following command:\n",
    "```sh\n",
    "jupyter notebook recommender-system-using-supervised-gnn.ipynb\n",
    "```\n",
    "\n",
    "## Project Structure\n",
    "- `recommender-system-using-supervised-gnn.ipynb`: Main notebook containing the implementation of the recommender system.\n",
    "\n",
    "## Results\n",
    "The results of the recommender system are evaluated using standard metrics such as Precision, Recall, and F1-score. The supervised approach shows significant improvements over traditional methods.\n",
    "\n",
    "## Contributing\n",
    "Contributions are welcome! Please read the [contribution guidelines](CONTRIBUTING.md) first.\n"
   ]
  },
  {
   "cell_type": "code",
   "execution_count": 73,
   "metadata": {
    "colab": {
     "base_uri": "https://localhost:8080/"
    },
    "execution": {
     "iopub.execute_input": "2024-08-09T10:57:16.930760Z",
     "iopub.status.busy": "2024-08-09T10:57:16.930366Z",
     "iopub.status.idle": "2024-08-09T10:57:29.062263Z",
     "shell.execute_reply": "2024-08-09T10:57:29.061322Z",
     "shell.execute_reply.started": "2024-08-09T10:57:16.930724Z"
    },
    "id": "SR6d7sjDFZIs",
    "outputId": "0b9011a8-7775-4b26-a2c0-052cbefb5256"
   },
   "outputs": [
    {
     "name": "stdout",
     "output_type": "stream",
     "text": [
      "Requirement already satisfied: torch-geometric in /opt/conda/lib/python3.10/site-packages (2.5.3)\n",
      "Requirement already satisfied: tqdm in /opt/conda/lib/python3.10/site-packages (from torch-geometric) (4.66.4)\n",
      "Requirement already satisfied: numpy in /opt/conda/lib/python3.10/site-packages (from torch-geometric) (1.26.4)\n",
      "Requirement already satisfied: scipy in /opt/conda/lib/python3.10/site-packages (from torch-geometric) (1.11.4)\n",
      "Requirement already satisfied: fsspec in /opt/conda/lib/python3.10/site-packages (from torch-geometric) (2024.5.0)\n",
      "Requirement already satisfied: jinja2 in /opt/conda/lib/python3.10/site-packages (from torch-geometric) (3.1.2)\n",
      "Requirement already satisfied: aiohttp in /opt/conda/lib/python3.10/site-packages (from torch-geometric) (3.9.1)\n",
      "Requirement already satisfied: requests in /opt/conda/lib/python3.10/site-packages (from torch-geometric) (2.32.3)\n",
      "Requirement already satisfied: pyparsing in /opt/conda/lib/python3.10/site-packages (from torch-geometric) (3.1.1)\n",
      "Requirement already satisfied: scikit-learn in /opt/conda/lib/python3.10/site-packages (from torch-geometric) (1.2.2)\n",
      "Requirement already satisfied: psutil>=5.8.0 in /opt/conda/lib/python3.10/site-packages (from torch-geometric) (5.9.3)\n",
      "Requirement already satisfied: attrs>=17.3.0 in /opt/conda/lib/python3.10/site-packages (from aiohttp->torch-geometric) (23.2.0)\n",
      "Requirement already satisfied: multidict<7.0,>=4.5 in /opt/conda/lib/python3.10/site-packages (from aiohttp->torch-geometric) (6.0.4)\n",
      "Requirement already satisfied: yarl<2.0,>=1.0 in /opt/conda/lib/python3.10/site-packages (from aiohttp->torch-geometric) (1.9.3)\n",
      "Requirement already satisfied: frozenlist>=1.1.1 in /opt/conda/lib/python3.10/site-packages (from aiohttp->torch-geometric) (1.4.1)\n",
      "Requirement already satisfied: aiosignal>=1.1.2 in /opt/conda/lib/python3.10/site-packages (from aiohttp->torch-geometric) (1.3.1)\n",
      "Requirement already satisfied: async-timeout<5.0,>=4.0 in /opt/conda/lib/python3.10/site-packages (from aiohttp->torch-geometric) (4.0.3)\n",
      "Requirement already satisfied: MarkupSafe>=2.0 in /opt/conda/lib/python3.10/site-packages (from jinja2->torch-geometric) (2.1.3)\n",
      "Requirement already satisfied: charset-normalizer<4,>=2 in /opt/conda/lib/python3.10/site-packages (from requests->torch-geometric) (3.3.2)\n",
      "Requirement already satisfied: idna<4,>=2.5 in /opt/conda/lib/python3.10/site-packages (from requests->torch-geometric) (3.6)\n",
      "Requirement already satisfied: urllib3<3,>=1.21.1 in /opt/conda/lib/python3.10/site-packages (from requests->torch-geometric) (1.26.18)\n",
      "Requirement already satisfied: certifi>=2017.4.17 in /opt/conda/lib/python3.10/site-packages (from requests->torch-geometric) (2024.7.4)\n",
      "Requirement already satisfied: joblib>=1.1.1 in /opt/conda/lib/python3.10/site-packages (from scikit-learn->torch-geometric) (1.4.2)\n",
      "Requirement already satisfied: threadpoolctl>=2.0.0 in /opt/conda/lib/python3.10/site-packages (from scikit-learn->torch-geometric) (3.2.0)\n"
     ]
    }
   ],
   "source": [
    "# Code cell\n",
    "!pip install torch-geometric"
   ]
  },
  {
   "cell_type": "code",
   "execution_count": 108,
   "metadata": {
    "execution": {
     "iopub.execute_input": "2024-08-09T11:00:02.750227Z",
     "iopub.status.busy": "2024-08-09T11:00:02.749617Z",
     "iopub.status.idle": "2024-08-09T11:00:02.757174Z",
     "shell.execute_reply": "2024-08-09T11:00:02.756080Z",
     "shell.execute_reply.started": "2024-08-09T11:00:02.750197Z"
    },
    "id": "-nTIfY-owmFf"
   },
   "outputs": [],
   "source": [
    "# Import necessary libraries\n",
    "import numpy as np\n",
    "import pandas as pd\n",
    "import random\n",
    "import copy\n",
    "from tqdm.notebook import tqdm\n",
    "\n",
    "import matplotlib.pyplot as plt\n",
    "\n",
    "from sklearn.model_selection import train_test_split\n",
    "from sklearn import model_selection, metrics, preprocessing\n",
    "from torch_geometric.utils import degree\n",
    "import torch\n",
    "from torch import nn, optim, Tensor\n",
    "# from torch_sparse import SparseTensor, matmul\n",
    "import torch.nn.functional as F\n",
    "from torch_geometric.nn.conv.gcn_conv import gcn_norm\n",
    "from torch_geometric.data import download_url, extract_zip\n",
    "from torch_geometric.utils import structured_negative_sampling\n",
    "from torch_geometric.nn.conv import MessagePassing\n",
    "from torch_geometric.typing import Adj\n",
    "from collections import defaultdict\n",
    "from scipy import sparse"
   ]
  },
  {
   "cell_type": "code",
   "execution_count": 75,
   "metadata": {
    "colab": {
     "base_uri": "https://localhost:8080/"
    },
    "execution": {
     "iopub.execute_input": "2024-08-09T10:57:29.073242Z",
     "iopub.status.busy": "2024-08-09T10:57:29.073007Z",
     "iopub.status.idle": "2024-08-09T10:57:29.089551Z",
     "shell.execute_reply": "2024-08-09T10:57:29.088587Z",
     "shell.execute_reply.started": "2024-08-09T10:57:29.073221Z"
    },
    "id": "RwBZPk_iFjZX",
    "outputId": "bd819320-251c-42a0-a6a9-afb8ed4d6994"
   },
   "outputs": [
    {
     "name": "stdout",
     "output_type": "stream",
     "text": [
      "[[0 0 1 1]\n",
      " [1 0 1 0]\n",
      " [0 1 0 0]]\n"
     ]
    }
   ],
   "source": [
    "# Code cell\n",
    "R = np.array([[0,0,1,1],[1,0,1,0],[0,1,0,0]])\n",
    "print(R)"
   ]
  },
  {
   "cell_type": "code",
   "execution_count": 76,
   "metadata": {
    "colab": {
     "base_uri": "https://localhost:8080/"
    },
    "execution": {
     "iopub.execute_input": "2024-08-09T10:57:29.091988Z",
     "iopub.status.busy": "2024-08-09T10:57:29.091440Z",
     "iopub.status.idle": "2024-08-09T10:57:29.100728Z",
     "shell.execute_reply": "2024-08-09T10:57:29.099772Z",
     "shell.execute_reply.started": "2024-08-09T10:57:29.091963Z"
    },
    "id": "bTFwHHIIFwU3",
    "outputId": "f3b415c6-9ffa-489b-bb6d-8e0928596319"
   },
   "outputs": [
    {
     "name": "stdout",
     "output_type": "stream",
     "text": [
      "  (0, 2)\t1\n",
      "  (0, 3)\t1\n",
      "  (1, 0)\t1\n",
      "  (1, 2)\t1\n",
      "  (2, 1)\t1\n"
     ]
    }
   ],
   "source": [
    "# Code cell\n",
    "R_np_COO = sparse.coo_matrix(R)\n",
    "print(R_np_COO)"
   ]
  },
  {
   "cell_type": "code",
   "execution_count": 77,
   "metadata": {
    "colab": {
     "base_uri": "https://localhost:8080/"
    },
    "execution": {
     "iopub.execute_input": "2024-08-09T10:57:29.102070Z",
     "iopub.status.busy": "2024-08-09T10:57:29.101802Z",
     "iopub.status.idle": "2024-08-09T10:57:29.111170Z",
     "shell.execute_reply": "2024-08-09T10:57:29.110286Z",
     "shell.execute_reply.started": "2024-08-09T10:57:29.102047Z"
    },
    "id": "oUthOnT4F4og",
    "outputId": "3b7375bf-4ff8-4e13-991c-69182a0b7120"
   },
   "outputs": [
    {
     "name": "stdout",
     "output_type": "stream",
     "text": [
      "[array([0, 0, 1, 1, 2], dtype=int32), array([2, 3, 0, 2, 1], dtype=int32)]\n"
     ]
    }
   ],
   "source": [
    "# Code cell\n",
    "R_edge_index = [R_np_COO.row, R_np_COO.col]\n",
    "print(R_edge_index)"
   ]
  },
  {
   "cell_type": "code",
   "execution_count": 78,
   "metadata": {
    "colab": {
     "base_uri": "https://localhost:8080/"
    },
    "execution": {
     "iopub.execute_input": "2024-08-09T10:57:29.112501Z",
     "iopub.status.busy": "2024-08-09T10:57:29.112187Z",
     "iopub.status.idle": "2024-08-09T10:57:29.121234Z",
     "shell.execute_reply": "2024-08-09T10:57:29.120362Z",
     "shell.execute_reply.started": "2024-08-09T10:57:29.112471Z"
    },
    "id": "Y9R3ccLcGG15",
    "outputId": "e55c404a-a96f-487d-83ff-f238abef520e"
   },
   "outputs": [
    {
     "name": "stdout",
     "output_type": "stream",
     "text": [
      "[[0 0 1 1]\n",
      " [1 0 1 0]\n",
      " [0 1 0 0]]\n"
     ]
    }
   ],
   "source": [
    "# Code cell\n",
    "print(R_np_COO.todense())"
   ]
  },
  {
   "cell_type": "code",
   "execution_count": 79,
   "metadata": {
    "colab": {
     "base_uri": "https://localhost:8080/"
    },
    "execution": {
     "iopub.execute_input": "2024-08-09T10:57:29.122776Z",
     "iopub.status.busy": "2024-08-09T10:57:29.122355Z",
     "iopub.status.idle": "2024-08-09T10:57:29.153693Z",
     "shell.execute_reply": "2024-08-09T10:57:29.152835Z",
     "shell.execute_reply.started": "2024-08-09T10:57:29.122746Z"
    },
    "id": "j1mSFcuvGOt-",
    "outputId": "86a64086-2afd-4d9f-c7f8-064e3854a8b5"
   },
   "outputs": [
    {
     "name": "stderr",
     "output_type": "stream",
     "text": [
      "Using existing file ml-latest-small.zip\n",
      "Extracting ./ml-latest-small.zip\n"
     ]
    }
   ],
   "source": [
    "# Code cell\n",
    "url = 'https://files.grouplens.org/datasets/movielens/ml-latest-small.zip'\n",
    "extract_zip(download_url(url, '.'), '.')\n",
    "\n",
    "movie_path = './ml-latest-small/movies.csv'\n",
    "rating_path = './ml-latest-small/ratings.csv'\n",
    "user_path = './ml-latest-small/users.csv'"
   ]
  },
  {
   "cell_type": "code",
   "execution_count": 80,
   "metadata": {
    "colab": {
     "base_uri": "https://localhost:8080/"
    },
    "execution": {
     "iopub.execute_input": "2024-08-09T10:57:29.154981Z",
     "iopub.status.busy": "2024-08-09T10:57:29.154723Z",
     "iopub.status.idle": "2024-08-09T10:57:29.252207Z",
     "shell.execute_reply": "2024-08-09T10:57:29.251361Z",
     "shell.execute_reply.started": "2024-08-09T10:57:29.154959Z"
    },
    "id": "WyFniUNTZy96",
    "outputId": "a3cae97e-41dc-452d-c737-55cff9d73b92"
   },
   "outputs": [
    {
     "name": "stdout",
     "output_type": "stream",
     "text": [
      "              userId        movieId         rating     timestamp\n",
      "count  100836.000000  100836.000000  100836.000000  1.008360e+05\n",
      "mean      326.127564   19435.295718       3.501557  1.205946e+09\n",
      "std       182.618491   35530.987199       1.042529  2.162610e+08\n",
      "min         1.000000       1.000000       0.500000  8.281246e+08\n",
      "25%       177.000000    1199.000000       3.000000  1.019124e+09\n",
      "50%       325.000000    2991.000000       3.500000  1.186087e+09\n",
      "75%       477.000000    8122.000000       4.000000  1.435994e+09\n",
      "max       610.000000  193609.000000       5.000000  1.537799e+09\n",
      "Movies: 9724\n",
      "Users: 610\n"
     ]
    }
   ],
   "source": [
    "# Code cell\n",
    "df_movie = pd.read_csv(movie_path)\n",
    "df_rating = pd.read_csv(rating_path)\n",
    "\n",
    "print(df_rating.describe())\n",
    "df_rating.head()\n",
    "\n",
    "print(\"Movies:\", len(df_rating['movieId'].unique()))\n",
    "print(\"Users:\", len(df_rating['userId'].unique()))"
   ]
  },
  {
   "cell_type": "markdown",
   "metadata": {
    "id": "p5JfYArzalhN"
   },
   "source": [
    "Label The movies cause movieIds are from 1 to 193609"
   ]
  },
  {
   "cell_type": "code",
   "execution_count": 81,
   "metadata": {
    "execution": {
     "iopub.execute_input": "2024-08-09T10:57:29.253598Z",
     "iopub.status.busy": "2024-08-09T10:57:29.253313Z",
     "iopub.status.idle": "2024-08-09T10:57:29.272159Z",
     "shell.execute_reply": "2024-08-09T10:57:29.271429Z",
     "shell.execute_reply.started": "2024-08-09T10:57:29.253573Z"
    },
    "id": "wbGRQ0BaavXg"
   },
   "outputs": [],
   "source": [
    "# Train the model\n",
    "user_labels = preprocessing.LabelEncoder()\n",
    "movie_labels = preprocessing.LabelEncoder()\n",
    "\n",
    "df_rating.userId = user_labels.fit_transform(df_rating.userId.values)\n",
    "df_rating.movieId = movie_labels.fit_transform(df_rating.movieId.values)"
   ]
  },
  {
   "cell_type": "code",
   "execution_count": 82,
   "metadata": {
    "colab": {
     "base_uri": "https://localhost:8080/"
    },
    "execution": {
     "iopub.execute_input": "2024-08-09T10:57:29.275793Z",
     "iopub.status.busy": "2024-08-09T10:57:29.275416Z",
     "iopub.status.idle": "2024-08-09T10:57:29.299091Z",
     "shell.execute_reply": "2024-08-09T10:57:29.298224Z",
     "shell.execute_reply.started": "2024-08-09T10:57:29.275766Z"
    },
    "id": "09aC9Qa5a-RU",
    "outputId": "0cb76af3-1edd-49b4-8482-147d13bc627f"
   },
   "outputs": [
    {
     "name": "stdout",
     "output_type": "stream",
     "text": [
      "              userId        movieId         rating     timestamp\n",
      "count  100836.000000  100836.000000  100836.000000  1.008360e+05\n",
      "mean      325.127564    3101.735561       3.501557  1.205946e+09\n",
      "std       182.618491    2627.050983       1.042529  2.162610e+08\n",
      "min         0.000000       0.000000       0.500000  8.281246e+08\n",
      "25%       176.000000     900.000000       3.000000  1.019124e+09\n",
      "50%       324.000000    2252.000000       3.500000  1.186087e+09\n",
      "75%       476.000000    5095.250000       4.000000  1.435994e+09\n",
      "max       609.000000    9723.000000       5.000000  1.537799e+09\n"
     ]
    }
   ],
   "source": [
    "# Code cell\n",
    "print(df_rating.describe())"
   ]
  },
  {
   "cell_type": "code",
   "execution_count": 83,
   "metadata": {
    "colab": {
     "base_uri": "https://localhost:8080/"
    },
    "execution": {
     "iopub.execute_input": "2024-08-09T10:57:29.300390Z",
     "iopub.status.busy": "2024-08-09T10:57:29.300145Z",
     "iopub.status.idle": "2024-08-09T10:57:29.308367Z",
     "shell.execute_reply": "2024-08-09T10:57:29.307438Z",
     "shell.execute_reply.started": "2024-08-09T10:57:29.300368Z"
    },
    "id": "8eddbo1rbIab",
    "outputId": "63913587-ac8e-4407-e4ec-b87eeb38cc39"
   },
   "outputs": [
    {
     "name": "stdout",
     "output_type": "stream",
     "text": [
      "rating\n",
      "4.0    26818\n",
      "3.0    20047\n",
      "5.0    13211\n",
      "3.5    13136\n",
      "4.5     8551\n",
      "2.0     7551\n",
      "2.5     5550\n",
      "1.0     2811\n",
      "1.5     1791\n",
      "0.5     1370\n",
      "Name: count, dtype: int64\n"
     ]
    }
   ],
   "source": [
    "# Code cell\n",
    "print(df_rating.rating.value_counts())"
   ]
  },
  {
   "cell_type": "markdown",
   "metadata": {
    "id": "moTuyJUrbmyQ"
   },
   "source": [
    "## Load Edge Indices"
   ]
  },
  {
   "cell_type": "code",
   "execution_count": 84,
   "metadata": {
    "execution": {
     "iopub.execute_input": "2024-08-09T10:57:29.309667Z",
     "iopub.status.busy": "2024-08-09T10:57:29.309395Z",
     "iopub.status.idle": "2024-08-09T10:57:29.318300Z",
     "shell.execute_reply": "2024-08-09T10:57:29.317568Z",
     "shell.execute_reply.started": "2024-08-09T10:57:29.309644Z"
    },
    "id": "jytaVM0dbNW2"
   },
   "outputs": [],
   "source": [
    "# Define functions\n",
    "def load_edge_csv(df, src_index_col, dest_index_col, link_index_col, threshold=3):\n",
    "  edge_index = None\n",
    "  sources = [user for user in df['userId']]\n",
    "  destinations = [movie for movie in df['movieId']]\n",
    "  link_vals = df[link_index_col].values\n",
    "\n",
    "  edge_attr = torch.from_numpy(df[link_index_col].values).view(-1, 1).to(torch.long) >= threshold\n",
    "  edge_index = [[],[]]\n",
    "  edge_values = []\n",
    "\n",
    "  for i in range(edge_attr.shape[0]):\n",
    "    if edge_attr[i]:\n",
    "      edge_index[0].append(sources[i])\n",
    "      edge_index[1].append(destinations[i])\n",
    "      edge_values.append(link_vals[i])\n",
    "\n",
    "  return edge_index, edge_values\n"
   ]
  },
  {
   "cell_type": "code",
   "execution_count": 85,
   "metadata": {
    "execution": {
     "iopub.execute_input": "2024-08-09T10:57:29.320207Z",
     "iopub.status.busy": "2024-08-09T10:57:29.319635Z",
     "iopub.status.idle": "2024-08-09T10:57:29.739326Z",
     "shell.execute_reply": "2024-08-09T10:57:29.738588Z",
     "shell.execute_reply.started": "2024-08-09T10:57:29.320175Z"
    },
    "id": "eOeI2a4pWhDJ"
   },
   "outputs": [],
   "source": [
    "# Code cell\n",
    "edge_index, edge_values = load_edge_csv(df_rating, 'userId', 'movieId', 'rating', threshold=1)"
   ]
  },
  {
   "cell_type": "code",
   "execution_count": 86,
   "metadata": {
    "colab": {
     "base_uri": "https://localhost:8080/"
    },
    "execution": {
     "iopub.execute_input": "2024-08-09T10:57:29.740765Z",
     "iopub.status.busy": "2024-08-09T10:57:29.740392Z",
     "iopub.status.idle": "2024-08-09T10:57:29.745222Z",
     "shell.execute_reply": "2024-08-09T10:57:29.744340Z",
     "shell.execute_reply.started": "2024-08-09T10:57:29.740738Z"
    },
    "id": "S3UZhtp8XAgI",
    "outputId": "8bdacfc8-ba43-4a00-b0c0-8ec6760d2f75"
   },
   "outputs": [
    {
     "name": "stdout",
     "output_type": "stream",
     "text": [
      "2 x 99466\n"
     ]
    }
   ],
   "source": [
    "# Code cell\n",
    "print(f'{len(edge_index)} x {len(edge_index[0])}')"
   ]
  },
  {
   "cell_type": "code",
   "execution_count": 87,
   "metadata": {
    "colab": {
     "base_uri": "https://localhost:8080/"
    },
    "execution": {
     "iopub.execute_input": "2024-08-09T10:57:29.746547Z",
     "iopub.status.busy": "2024-08-09T10:57:29.746258Z",
     "iopub.status.idle": "2024-08-09T10:57:29.788584Z",
     "shell.execute_reply": "2024-08-09T10:57:29.787779Z",
     "shell.execute_reply.started": "2024-08-09T10:57:29.746500Z"
    },
    "id": "KVlJN_guXHC1",
    "outputId": "86e91f02-0d00-4d0e-e108-9e891115115d"
   },
   "outputs": [
    {
     "data": {
      "text/plain": [
       "torch.Size([2, 99466])"
      ]
     },
     "execution_count": 87,
     "metadata": {},
     "output_type": "execute_result"
    }
   ],
   "source": [
    "# Code cell\n",
    "edge_index = torch.LongTensor(edge_index)\n",
    "edge_index.size()"
   ]
  },
  {
   "cell_type": "code",
   "execution_count": 88,
   "metadata": {
    "execution": {
     "iopub.execute_input": "2024-08-09T10:57:29.789977Z",
     "iopub.status.busy": "2024-08-09T10:57:29.789667Z",
     "iopub.status.idle": "2024-08-09T10:57:29.862835Z",
     "shell.execute_reply": "2024-08-09T10:57:29.862014Z",
     "shell.execute_reply.started": "2024-08-09T10:57:29.789953Z"
    }
   },
   "outputs": [
    {
     "data": {
      "text/plain": [
       "tensor([4., 4., 4.,  ..., 5., 5., 3.], dtype=torch.float64)"
      ]
     },
     "execution_count": 88,
     "metadata": {},
     "output_type": "execute_result"
    }
   ],
   "source": [
    "# Code cell\n",
    "edge_values = torch.tensor(edge_values)\n",
    "edge_values"
   ]
  },
  {
   "cell_type": "code",
   "execution_count": 89,
   "metadata": {
    "colab": {
     "base_uri": "https://localhost:8080/"
    },
    "execution": {
     "iopub.execute_input": "2024-08-09T10:57:29.863931Z",
     "iopub.status.busy": "2024-08-09T10:57:29.863702Z",
     "iopub.status.idle": "2024-08-09T10:57:29.874301Z",
     "shell.execute_reply": "2024-08-09T10:57:29.873513Z",
     "shell.execute_reply.started": "2024-08-09T10:57:29.863910Z"
    },
    "id": "ZCFxLxt7XUZ5",
    "outputId": "596f0b73-dd70-4f73-fcf4-a7e0f1892852"
   },
   "outputs": [
    {
     "name": "stdout",
     "output_type": "stream",
     "text": [
      "Number of movies: 9724\n",
      "Number of users: 610\n",
      "Number of interactions: 99466\n"
     ]
    }
   ],
   "source": [
    "# Code cell\n",
    "num_movies, num_users = len(df_rating['movieId'].unique()), len(df_rating['userId'].unique())\n",
    "num_interactions = edge_index.shape[1]\n",
    "print(f'Number of movies: {num_movies}')\n",
    "print(f'Number of users: {num_users}')\n",
    "print(f'Number of interactions: {num_interactions}')"
   ]
  },
  {
   "cell_type": "markdown",
   "metadata": {
    "id": "SqG-JB6-YWlw"
   },
   "source": [
    "### Splitting Dataset"
   ]
  },
  {
   "cell_type": "code",
   "execution_count": 90,
   "metadata": {
    "colab": {
     "base_uri": "https://localhost:8080/"
    },
    "execution": {
     "iopub.execute_input": "2024-08-09T10:57:29.875779Z",
     "iopub.status.busy": "2024-08-09T10:57:29.875424Z",
     "iopub.status.idle": "2024-08-09T10:57:29.980931Z",
     "shell.execute_reply": "2024-08-09T10:57:29.980088Z",
     "shell.execute_reply.started": "2024-08-09T10:57:29.875756Z"
    },
    "id": "znLNeHxrYThL",
    "outputId": "0326200c-1e2e-4510-971f-91e5eb396f6d"
   },
   "outputs": [
    {
     "name": "stdout",
     "output_type": "stream",
     "text": [
      "79572\n",
      "9947\n",
      "9947\n"
     ]
    }
   ],
   "source": [
    "# Train the model\n",
    "all_indices = list(range(num_interactions))\n",
    "train_indices, test_indices = train_test_split(all_indices, test_size=0.2, random_state=1)\n",
    "val_indices, test_indices = train_test_split(test_indices, test_size=0.5, random_state=1)\n",
    "\n",
    "train_edge_index = edge_index[:, train_indices]\n",
    "train_edge_values = edge_values[train_indices]\n",
    "val_edge_index = edge_index[:, val_indices]\n",
    "val_edge_values = edge_values[val_indices]\n",
    "test_edge_index = edge_index[:, test_indices]\n",
    "test_edge_values = edge_values[test_indices]\n",
    "print(len(train_edge_index[1]))\n",
    "print(len(val_edge_index[1]))\n",
    "print(len(test_edge_index[1]))"
   ]
  },
  {
   "cell_type": "markdown",
   "metadata": {
    "id": "39j39FrVY_-I"
   },
   "source": [
    "### Conversion of Interaction matrix(R) to Adjacency Matrix(A)"
   ]
  },
  {
   "cell_type": "code",
   "execution_count": 91,
   "metadata": {
    "execution": {
     "iopub.execute_input": "2024-08-09T10:57:29.982322Z",
     "iopub.status.busy": "2024-08-09T10:57:29.982040Z",
     "iopub.status.idle": "2024-08-09T10:57:29.988940Z",
     "shell.execute_reply": "2024-08-09T10:57:29.988021Z",
     "shell.execute_reply.started": "2024-08-09T10:57:29.982299Z"
    },
    "id": "NOjq82zlY97I"
   },
   "outputs": [],
   "source": [
    "# Define functions\n",
    "def R_to_Adjacency_edge_index(edge_index, edge_values):\n",
    "  R = torch.zeros((num_users, num_movies))\n",
    "  for i in range(len(edge_index[0])):\n",
    "    R[edge_index[0][i], edge_index[1][i]] = edge_values[i]\n",
    "  R_T = torch.transpose(R, 0, 1)\n",
    "  A = torch.zeros((num_users+num_movies), (num_users+num_movies))\n",
    "  A[:num_users, num_users:] = R.clone()\n",
    "  A[num_users:, :num_users] = R_T.clone()\n",
    "  A_coo = A.to_sparse_coo()\n",
    "  return A_coo.indices(), A_coo.values()"
   ]
  },
  {
   "cell_type": "code",
   "execution_count": 92,
   "metadata": {
    "execution": {
     "iopub.execute_input": "2024-08-09T10:57:29.990154Z",
     "iopub.status.busy": "2024-08-09T10:57:29.989905Z",
     "iopub.status.idle": "2024-08-09T10:57:30.000826Z",
     "shell.execute_reply": "2024-08-09T10:57:30.000103Z",
     "shell.execute_reply.started": "2024-08-09T10:57:29.990132Z"
    },
    "id": "wwX67R1OdFSS"
   },
   "outputs": [],
   "source": [
    "# Define functions\n",
    "def Adjacency_edge_index_to_R_edge_index(edge_index, edge_values):\n",
    "  sparse_input_edge_mat = torch.sparse_coo_tensor(edge_index, edge_values, size=(num_users + num_movies, num_users + num_movies))\n",
    "  A = sparse_input_edge_mat.to_dense()\n",
    "  R = A[:num_users, num_users:]\n",
    "  R_COO = R.to_sparse_coo()\n",
    "  R_edge_index = R_COO.indices()\n",
    "  return R_edge_index, R_COO.values()"
   ]
  },
  {
   "cell_type": "code",
   "execution_count": 93,
   "metadata": {
    "execution": {
     "iopub.execute_input": "2024-08-09T10:57:30.002009Z",
     "iopub.status.busy": "2024-08-09T10:57:30.001751Z",
     "iopub.status.idle": "2024-08-09T10:57:32.413581Z",
     "shell.execute_reply": "2024-08-09T10:57:32.412576Z",
     "shell.execute_reply.started": "2024-08-09T10:57:30.001987Z"
    },
    "id": "VCu283xdaOt5"
   },
   "outputs": [],
   "source": [
    "# Train the model\n",
    "train_adj_edge_index, train_adj_edge_values = R_to_Adjacency_edge_index(train_edge_index, train_edge_values)\n",
    "val_adj_edge_index, val_adj_edge_values = R_to_Adjacency_edge_index(val_edge_index, val_edge_values)\n",
    "test_adj_edge_index, test_adj_edge_values = R_to_Adjacency_edge_index(test_edge_index, test_edge_values)"
   ]
  },
  {
   "cell_type": "code",
   "execution_count": 94,
   "metadata": {
    "colab": {
     "base_uri": "https://localhost:8080/"
    },
    "execution": {
     "iopub.execute_input": "2024-08-09T10:57:32.415084Z",
     "iopub.status.busy": "2024-08-09T10:57:32.414783Z",
     "iopub.status.idle": "2024-08-09T10:57:32.419952Z",
     "shell.execute_reply": "2024-08-09T10:57:32.419078Z",
     "shell.execute_reply.started": "2024-08-09T10:57:32.415058Z"
    },
    "id": "O3KGaz1wcKG3",
    "outputId": "386f64fe-7c3d-4204-8940-809552caef36"
   },
   "outputs": [
    {
     "name": "stdout",
     "output_type": "stream",
     "text": [
      "torch.Size([2, 159144])\n",
      "torch.Size([2, 19894])\n",
      "torch.Size([2, 19894])\n"
     ]
    }
   ],
   "source": [
    "# Train the model\n",
    "print(train_adj_edge_index.size())\n",
    "print(val_adj_edge_index.size())\n",
    "print(test_adj_edge_index.size())"
   ]
  },
  {
   "cell_type": "markdown",
   "metadata": {
    "id": "aZ8n4KNcezso"
   },
   "source": [
    "### Training & computing BPR Loss\n",
    "Since this is Self-supervised Learning, we are relying on graph structure itself. So, we will random sample a batch of positives and negatives"
   ]
  },
  {
   "cell_type": "code",
   "execution_count": 95,
   "metadata": {
    "execution": {
     "iopub.execute_input": "2024-08-09T10:57:32.421250Z",
     "iopub.status.busy": "2024-08-09T10:57:32.420989Z",
     "iopub.status.idle": "2024-08-09T10:57:32.431838Z",
     "shell.execute_reply": "2024-08-09T10:57:32.430959Z",
     "shell.execute_reply.started": "2024-08-09T10:57:32.421223Z"
    },
    "id": "hyCxVrExcRAN"
   },
   "outputs": [],
   "source": [
    "# Define functions\n",
    "def sample_mini_batch(batch_size, edge_index): # Note: edge_index is in interactive matrix form\n",
    "  edges = structured_negative_sampling(edge_index)\n",
    "  edges = torch.stack(edges, dim=0)\n",
    "  mini_batch_sample_indices = random.choices(list(range(edges[0].shape[0])), k=batch_size)\n",
    "  mini_batch_edges = edges[:, mini_batch_sample_indices]\n",
    "  user_indices, positive_user_indices, negative_user_indices = mini_batch_edges[0], mini_batch_edges[1], mini_batch_edges[2]\n",
    "  return user_indices, positive_user_indices, negative_user_indices"
   ]
  },
  {
   "cell_type": "markdown",
   "metadata": {
    "id": "J93TM2PjkBxe"
   },
   "source": [
    "## LightGCN Model"
   ]
  },
  {
   "cell_type": "code",
   "execution_count": 96,
   "metadata": {
    "execution": {
     "iopub.execute_input": "2024-08-09T10:57:32.433094Z",
     "iopub.status.busy": "2024-08-09T10:57:32.432860Z",
     "iopub.status.idle": "2024-08-09T10:57:32.446388Z",
     "shell.execute_reply": "2024-08-09T10:57:32.445536Z",
     "shell.execute_reply.started": "2024-08-09T10:57:32.433074Z"
    },
    "id": "Up9gGzmTiurS"
   },
   "outputs": [],
   "source": [
    "# Define functions\n",
    "class LightGCN(MessagePassing):\n",
    "  def __init__(self, num_users, num_movies, embedding_dim=64, K=3, add_self_loops=False): # K = No.of layers\n",
    "    super().__init__()\n",
    "    self.num_users = num_users\n",
    "    self.num_movies = num_movies\n",
    "    self.embedding_dim = embedding_dim\n",
    "    self.K = K\n",
    "    self.add_self_loops = add_self_loops\n",
    "\n",
    "    self.user_embedding = nn.Embedding(num_embeddings=self.num_users, embedding_dim=self.embedding_dim)\n",
    "    self.movie_embedding = nn.Embedding(num_embeddings=self.num_movies, embedding_dim=self.embedding_dim)\n",
    "    self.init_embedding()\n",
    "    self.out = nn.Linear(embedding_dim+embedding_dim, 1)\n",
    "\n",
    "  def init_embedding(self):\n",
    "    nn.init.normal_(self.user_embedding.weight, std=0.1)\n",
    "    nn.init.normal_(self.movie_embedding.weight, std=0.1)\n",
    "\n",
    "\n",
    "  def forward(self, edge_index, edge_values):\n",
    "    edge_index_norm = gcn_norm(edge_index, add_self_loops=self.add_self_loops)\n",
    "\n",
    "    emb_0 = torch.cat([self.user_embedding.weight, self.movie_embedding.weight])\n",
    "    embs = [emb_0]\n",
    "    emb_k = emb_0\n",
    "\n",
    "    for i in range(self.K):\n",
    "      emb_k = self.propagate(edge_index=edge_index_norm[0], x=emb_k, norm=edge_index_norm[1])\n",
    "      embs.append(emb_k)\n",
    "\n",
    "    embs = torch.stack(embs, dim=1)\n",
    "    lightgcn_all_embeddings = torch.mean(embs, dim=1)\n",
    "\n",
    "    user_embeddings, movie_embeddings = torch.split(lightgcn_all_embeddings, [self.num_users, self.num_movies])\n",
    "    \n",
    "    r_mat_edge_index, _ = Adjacency_edge_index_to_R_edge_index(edge_index, edge_values)\n",
    "    \n",
    "    src, dest = r_mat_edge_index[0], r_mat_edge_index[1]\n",
    "    user_embs = user_embeddings[src]\n",
    "    item_embs = movie_embeddings[dest]\n",
    "    out = torch.cat([user_embs, item_embs], dim=1)\n",
    "    return self.out(out)\n",
    "\n",
    "  def message(self, x_j, norm):\n",
    "    return norm.view(-1, 1) * x_j"
   ]
  },
  {
   "cell_type": "markdown",
   "metadata": {
    "id": "dzkYw6axyJPW"
   },
   "source": [
    "### Evaluation Metrics"
   ]
  },
  {
   "cell_type": "code",
   "execution_count": 113,
   "metadata": {
    "execution": {
     "iopub.execute_input": "2024-08-09T11:01:41.465240Z",
     "iopub.status.busy": "2024-08-09T11:01:41.464898Z",
     "iopub.status.idle": "2024-08-09T11:01:41.475418Z",
     "shell.execute_reply": "2024-08-09T11:01:41.474424Z",
     "shell.execute_reply.started": "2024-08-09T11:01:41.465212Z"
    },
    "id": "1esZxKYdyMeY"
   },
   "outputs": [],
   "source": [
    "# Define functions\n",
    "# Get recall\n",
    "def get_recall_at_k(input_edge_index, input_edge_values, pred_ratings, k=10, threshold=3.5):\n",
    "    with torch.no_grad():\n",
    "        user_item_rating_list = defaultdict(list)\n",
    "        for i in range(len(input_edge_index[0])):\n",
    "            src=input_edge_index[0][i].item()\n",
    "            dest=input_edge_index[1][i].item()\n",
    "            true_rating=input_edge_values[i].item()\n",
    "            pred_rating=pred_ratings[i].item()\n",
    "            \n",
    "            user_item_rating_list[src].append((pred_rating, true_rating))\n",
    "        recalls = dict()\n",
    "        precisions = dict()\n",
    "        for user_id, user_ratings in user_item_rating_list.items():\n",
    "            user_ratings.sort(key=lambda x: x[0], reverse=True)\n",
    "            n_rel = sum((true_r>=threshold) for (_, true_r) in user_ratings)\n",
    "            n_rec_k = sum((est>=threshold) for (est, _) in user_ratings[:k])\n",
    "            n_rel_and_rec_k = sum((est>=threshold and true_r>=threshold) for (est, true_r) in user_ratings[:k])\n",
    "            precisions[user_id] = n_rel_and_rec_k / n_rec_k if n_rec_k != 0 else 0\n",
    "            recalls[user_id] = n_rel_and_rec_k / n_rel if n_rel != 0 else 0\n",
    "        overall_recall = sum(rec for rec in recalls.values())/len(recalls)\n",
    "        overall_precision = sum(pre for pre in precisions.values())/len(precisions)\n",
    "        \n",
    "        return overall_recall, overall_precision"
   ]
  },
  {
   "cell_type": "markdown",
   "metadata": {
    "id": "wHQuoykk6hhg"
   },
   "source": [
    "## Training"
   ]
  },
  {
   "cell_type": "markdown",
   "metadata": {
    "id": "_ISbGtDY7frA"
   },
   "source": [
    "### Hyperparameters"
   ]
  },
  {
   "cell_type": "code",
   "execution_count": 98,
   "metadata": {
    "execution": {
     "iopub.execute_input": "2024-08-09T10:57:32.461185Z",
     "iopub.status.busy": "2024-08-09T10:57:32.460878Z",
     "iopub.status.idle": "2024-08-09T10:57:32.473619Z",
     "shell.execute_reply": "2024-08-09T10:57:32.472781Z",
     "shell.execute_reply.started": "2024-08-09T10:57:32.461156Z"
    },
    "id": "TZw-1yxE6iyB"
   },
   "outputs": [],
   "source": [
    "# Code cell\n",
    "ITERATIONS = 10000\n",
    "EPOCHS = 10\n",
    "BATCH_SIZE = 1024\n",
    "K = 10\n",
    "LR = 1e-3\n",
    "ITERS_PER_EVAL = 200\n",
    "ITERS_PER_LR_DECAY = 200\n",
    "LAMBDA = 1e-6"
   ]
  },
  {
   "cell_type": "markdown",
   "metadata": {
    "id": "qcNQepnK73qb"
   },
   "source": [
    "### Setup"
   ]
  },
  {
   "cell_type": "code",
   "execution_count": 99,
   "metadata": {
    "colab": {
     "base_uri": "https://localhost:8080/"
    },
    "execution": {
     "iopub.execute_input": "2024-08-09T10:57:32.475391Z",
     "iopub.status.busy": "2024-08-09T10:57:32.474783Z",
     "iopub.status.idle": "2024-08-09T10:57:32.497584Z",
     "shell.execute_reply": "2024-08-09T10:57:32.496833Z",
     "shell.execute_reply.started": "2024-08-09T10:57:32.475365Z"
    },
    "id": "afWmlY9O76fj",
    "outputId": "29285360-ee02-4af1-f357-52bf517fd3c4"
   },
   "outputs": [
    {
     "name": "stdout",
     "output_type": "stream",
     "text": [
      "cuda\n"
     ]
    }
   ],
   "source": [
    "# Code cell\n",
    "model = LightGCN(num_users, num_movies, K=1)\n",
    "device = torch.device('cuda' if torch.cuda.is_available() else 'cpu')\n",
    "print(device)"
   ]
  },
  {
   "cell_type": "code",
   "execution_count": 102,
   "metadata": {
    "execution": {
     "iopub.execute_input": "2024-08-09T10:58:41.798693Z",
     "iopub.status.busy": "2024-08-09T10:58:41.798077Z",
     "iopub.status.idle": "2024-08-09T10:58:41.806669Z",
     "shell.execute_reply": "2024-08-09T10:58:41.805816Z",
     "shell.execute_reply.started": "2024-08-09T10:58:41.798662Z"
    },
    "id": "Hfe-v18c8COW"
   },
   "outputs": [],
   "source": [
    "# Train the model\n",
    "model = model.to(device)\n",
    "\n",
    "model.train()\n",
    "\n",
    "optimizer = optim.Adam(model.parameters(), lr=LR)\n",
    "scheduler = optim.lr_scheduler.ExponentialLR(optimizer, gamma=0.95)\n",
    "\n",
    "edge_index = edge_index.to(device)\n",
    "train_adj_edge_index = train_adj_edge_index.to(device)\n",
    "val_adj_edge_index = val_adj_edge_index.to(device)\n",
    "test_adj_edge_index = test_adj_edge_index.to(device)\n",
    "\n",
    "train_adj_edge_values = train_adj_edge_values.to(device)\n",
    "val_adj_edge_values = val_adj_edge_values.to(device)\n",
    "test_adj_edge_values = test_adj_edge_values.to(device)\n",
    "loss_fn = nn.MSELoss()"
   ]
  },
  {
   "cell_type": "code",
   "execution_count": 103,
   "metadata": {
    "execution": {
     "iopub.execute_input": "2024-08-09T10:58:43.859160Z",
     "iopub.status.busy": "2024-08-09T10:58:43.858808Z",
     "iopub.status.idle": "2024-08-09T10:58:43.999508Z",
     "shell.execute_reply": "2024-08-09T10:58:43.998580Z",
     "shell.execute_reply.started": "2024-08-09T10:58:43.859130Z"
    }
   },
   "outputs": [],
   "source": [
    "# Train the model\n",
    "r_mat_train_index, r_mat_train_values = Adjacency_edge_index_to_R_edge_index(train_adj_edge_index, train_adj_edge_values)\n",
    "r_mat_test_index, r_mat_test_values = Adjacency_edge_index_to_R_edge_index(test_adj_edge_index, test_adj_edge_values)\n",
    "r_mat_val_index, r_mat_val_values = Adjacency_edge_index_to_R_edge_index(val_adj_edge_index, val_adj_edge_values)"
   ]
  },
  {
   "cell_type": "markdown",
   "metadata": {
    "id": "eOAJm_N79TsN"
   },
   "source": [
    "### Training loop"
   ]
  },
  {
   "cell_type": "code",
   "execution_count": 115,
   "metadata": {
    "colab": {
     "base_uri": "https://localhost:8080/",
     "height": 962,
     "referenced_widgets": [
      "96f7c37570b44beebbacbbe1bbb3bd4f",
      "944dfe5672b243a493631a16e554494e",
      "fb2f7178087d4d2eb6bf9a57ab1e501e",
      "a2d94911c6584013ae46b02ef53cb3c6",
      "b4daf3e1d2354d44a70bbaf98660d905",
      "1c3a7fd4cd394f55b245053b25c5a7ac",
      "40ba21bc2f8943bfb7bb47898d805765",
      "6b009c3db6b64c058fe17ebb4d25fc8a",
      "051ac13b99fc435d8d82de838cc5bf72",
      "35674005d4e540a8aadd5c6788d18fe5",
      "27b38b6ab74442f5b5d60b5a20d97b50"
     ]
    },
    "execution": {
     "iopub.execute_input": "2024-08-09T11:01:57.887246Z",
     "iopub.status.busy": "2024-08-09T11:01:57.886364Z",
     "iopub.status.idle": "2024-08-09T11:03:51.056984Z",
     "shell.execute_reply": "2024-08-09T11:03:51.056080Z",
     "shell.execute_reply.started": "2024-08-09T11:01:57.887211Z"
    },
    "id": "iTTmpcGd9VMK",
    "outputId": "0851aa39-73ae-4da2-bceb-6a85fd347aeb"
   },
   "outputs": [
    {
     "data": {
      "application/vnd.jupyter.widget-view+json": {
       "model_id": "7afcdc01d1df45958f945ad473aaad93",
       "version_major": 2,
       "version_minor": 0
      },
      "text/plain": [
       "  0%|          | 0/10000 [00:00<?, ?it/s]"
      ]
     },
     "metadata": {},
     "output_type": "display_data"
    },
    {
     "name": "stdout",
     "output_type": "stream",
     "text": [
      "[Iteration 0/10000] train_loss: 13.422472953796387, val_Loss: 13.458664894104004, Recall: 0.0, Precision: 0.0\n",
      "[Iteration 200/10000] train_loss: 1.005832314491272, val_Loss: 1.383942723274231, Recall: 0.1707661789498549, Precision: 0.468895877850793\n",
      "[Iteration 400/10000] train_loss: 0.7693952918052673, val_Loss: 1.206430196762085, Recall: 0.3541587251001714, Precision: 0.6157676729588497\n",
      "[Iteration 600/10000] train_loss: 0.6509786248207092, val_Loss: 1.1792881488800049, Recall: 0.4360737275110559, Precision: 0.6269573989105723\n",
      "[Iteration 800/10000] train_loss: 0.5846289396286011, val_Loss: 1.1803618669509888, Recall: 0.4897558670550156, Precision: 0.6301863094908762\n",
      "[Iteration 1000/10000] train_loss: 0.5597918629646301, val_Loss: 1.1915977001190186, Recall: 0.5066265081751276, Precision: 0.6380902638598073\n",
      "[Iteration 1200/10000] train_loss: 0.551003634929657, val_Loss: 1.2008744478225708, Recall: 0.5161051417068063, Precision: 0.6434238971382935\n",
      "[Iteration 1400/10000] train_loss: 0.5474973917007446, val_Loss: 1.2066484689712524, Recall: 0.5172392128054607, Precision: 0.644591222495828\n",
      "[Iteration 1600/10000] train_loss: 0.5460148453712463, val_Loss: 1.2101248502731323, Recall: 0.5166844902961457, Precision: 0.6446360739650215\n",
      "[Iteration 1800/10000] train_loss: 0.5453898310661316, val_Loss: 1.2122336626052856, Recall: 0.5157040669154759, Precision: 0.6427361451900928\n",
      "[Iteration 2000/10000] train_loss: 0.5451316833496094, val_Loss: 1.2135076522827148, Recall: 0.5164387398125619, Precision: 0.6428635306471997\n",
      "[Iteration 2200/10000] train_loss: 0.5450272560119629, val_Loss: 1.2142654657363892, Recall: 0.5158240211978434, Precision: 0.6428430253240628\n",
      "[Iteration 2400/10000] train_loss: 0.5449857711791992, val_Loss: 1.214705467224121, Recall: 0.5158481757872153, Precision: 0.6429263586573961\n",
      "[Iteration 2600/10000] train_loss: 0.5449694395065308, val_Loss: 1.214954137802124, Recall: 0.5158481757872153, Precision: 0.6429263586573961\n",
      "[Iteration 2800/10000] train_loss: 0.5449632406234741, val_Loss: 1.2150899171829224, Recall: 0.5158481757872153, Precision: 0.6429263586573961\n",
      "[Iteration 3000/10000] train_loss: 0.5449608564376831, val_Loss: 1.2151613235473633, Recall: 0.5158481757872153, Precision: 0.6428152475462849\n",
      "[Iteration 3200/10000] train_loss: 0.5449599623680115, val_Loss: 1.2151973247528076, Recall: 0.5158481757872153, Precision: 0.6428152475462849\n",
      "[Iteration 3400/10000] train_loss: 0.5449596643447876, val_Loss: 1.2152142524719238, Recall: 0.5158481757872153, Precision: 0.6426637323947698\n",
      "[Iteration 3600/10000] train_loss: 0.5449594855308533, val_Loss: 1.215221881866455, Recall: 0.5158481757872153, Precision: 0.6426637323947698\n",
      "[Iteration 3800/10000] train_loss: 0.5449594855308533, val_Loss: 1.2152245044708252, Recall: 0.5158481757872153, Precision: 0.6426637323947698\n",
      "[Iteration 4000/10000] train_loss: 0.5449594259262085, val_Loss: 1.215225100517273, Recall: 0.5158481757872153, Precision: 0.6426637323947698\n",
      "[Iteration 4200/10000] train_loss: 0.5449594855308533, val_Loss: 1.2152246236801147, Recall: 0.5158481757872153, Precision: 0.6426637323947698\n",
      "[Iteration 4400/10000] train_loss: 0.5449594259262085, val_Loss: 1.215224027633667, Recall: 0.5158481757872153, Precision: 0.6426637323947698\n",
      "[Iteration 4600/10000] train_loss: 0.5449594855308533, val_Loss: 1.2152235507965088, Recall: 0.5158481757872153, Precision: 0.6426637323947698\n",
      "[Iteration 4800/10000] train_loss: 0.5449594855308533, val_Loss: 1.2152230739593506, Recall: 0.5158481757872153, Precision: 0.6426637323947698\n",
      "[Iteration 5000/10000] train_loss: 0.5449594855308533, val_Loss: 1.215222954750061, Recall: 0.5158481757872153, Precision: 0.6426637323947698\n",
      "[Iteration 5200/10000] train_loss: 0.5449594855308533, val_Loss: 1.2152225971221924, Recall: 0.5158481757872153, Precision: 0.6426637323947698\n",
      "[Iteration 5400/10000] train_loss: 0.5449594855308533, val_Loss: 1.2152224779129028, Recall: 0.5158481757872153, Precision: 0.6426637323947698\n",
      "[Iteration 5600/10000] train_loss: 0.5449594855308533, val_Loss: 1.2152223587036133, Recall: 0.5158481757872153, Precision: 0.6426637323947698\n",
      "[Iteration 5800/10000] train_loss: 0.5449594855308533, val_Loss: 1.2152223587036133, Recall: 0.5158481757872153, Precision: 0.6426637323947698\n",
      "[Iteration 6000/10000] train_loss: 0.5449594855308533, val_Loss: 1.2152223587036133, Recall: 0.5158481757872153, Precision: 0.6426637323947698\n",
      "[Iteration 6200/10000] train_loss: 0.5449594855308533, val_Loss: 1.2152223587036133, Recall: 0.5158481757872153, Precision: 0.6426637323947698\n",
      "[Iteration 6400/10000] train_loss: 0.5449594855308533, val_Loss: 1.2152221202850342, Recall: 0.5158481757872153, Precision: 0.6426637323947698\n",
      "[Iteration 6600/10000] train_loss: 0.5449594855308533, val_Loss: 1.2152222394943237, Recall: 0.5158481757872153, Precision: 0.6426637323947698\n",
      "[Iteration 6800/10000] train_loss: 0.5449594855308533, val_Loss: 1.2152222394943237, Recall: 0.5158481757872153, Precision: 0.6426637323947698\n",
      "[Iteration 7000/10000] train_loss: 0.5449594855308533, val_Loss: 1.2152221202850342, Recall: 0.5158481757872153, Precision: 0.6426637323947698\n",
      "[Iteration 7200/10000] train_loss: 0.5449594855308533, val_Loss: 1.2152221202850342, Recall: 0.5158481757872153, Precision: 0.6426637323947698\n",
      "[Iteration 7400/10000] train_loss: 0.5449594855308533, val_Loss: 1.2152221202850342, Recall: 0.5158481757872153, Precision: 0.6426637323947698\n",
      "[Iteration 7600/10000] train_loss: 0.5449594855308533, val_Loss: 1.2152221202850342, Recall: 0.5158481757872153, Precision: 0.6426637323947698\n",
      "[Iteration 7800/10000] train_loss: 0.5449594855308533, val_Loss: 1.2152221202850342, Recall: 0.5158481757872153, Precision: 0.6426637323947698\n",
      "[Iteration 8000/10000] train_loss: 0.5449594855308533, val_Loss: 1.2152221202850342, Recall: 0.5158481757872153, Precision: 0.6426637323947698\n",
      "[Iteration 8200/10000] train_loss: 0.5449594855308533, val_Loss: 1.215221881866455, Recall: 0.5158481757872153, Precision: 0.6426637323947698\n",
      "[Iteration 8400/10000] train_loss: 0.5449594855308533, val_Loss: 1.215221881866455, Recall: 0.5158481757872153, Precision: 0.6426637323947698\n",
      "[Iteration 8600/10000] train_loss: 0.5449594855308533, val_Loss: 1.215221881866455, Recall: 0.5158481757872153, Precision: 0.6426637323947698\n",
      "[Iteration 8800/10000] train_loss: 0.5449594855308533, val_Loss: 1.215221881866455, Recall: 0.5158481757872153, Precision: 0.6426637323947698\n",
      "[Iteration 9000/10000] train_loss: 0.5449594855308533, val_Loss: 1.215221881866455, Recall: 0.5158481757872153, Precision: 0.6426637323947698\n",
      "[Iteration 9200/10000] train_loss: 0.5449594855308533, val_Loss: 1.215221881866455, Recall: 0.5158481757872153, Precision: 0.6426637323947698\n",
      "[Iteration 9400/10000] train_loss: 0.5449594855308533, val_Loss: 1.215221881866455, Recall: 0.5158481757872153, Precision: 0.6426637323947698\n",
      "[Iteration 9600/10000] train_loss: 0.5449594855308533, val_Loss: 1.2152217626571655, Recall: 0.5158481757872153, Precision: 0.6426637323947698\n",
      "[Iteration 9800/10000] train_loss: 0.5449594855308533, val_Loss: 1.215221881866455, Recall: 0.5158481757872153, Precision: 0.6426637323947698\n"
     ]
    }
   ],
   "source": [
    "# Train the model\n",
    "train_losses = []\n",
    "val_losses = []\n",
    "val_recall_at_k = []\n",
    "val_precision_at_k = []\n",
    "\n",
    "for iter in tqdm(range(ITERATIONS)):\n",
    "  pred_ratings = model.forward(train_adj_edge_index, train_adj_edge_values)\n",
    "  train_loss = loss_fn(pred_ratings, r_mat_train_values.view(-1, 1))\n",
    "    \n",
    "  optimizer.zero_grad()\n",
    "  train_loss.backward()\n",
    "  optimizer.step()\n",
    "\n",
    "  # val set\n",
    "  if iter % ITERS_PER_EVAL == 0:\n",
    "    model.eval()\n",
    "\n",
    "    with torch.no_grad():\n",
    "      val_pred_ratings = model.forward(val_adj_edge_index, val_adj_edge_values)\n",
    "      val_loss = loss_fn(val_pred_ratings, r_mat_val_values.view(-1, 1)).sum()\n",
    "      recall_at_k, precision_at_k = get_recall_at_k(r_mat_val_index, r_mat_val_values, val_pred_ratings, k=20)\n",
    "      print(f\"[Iteration {iter}/{ITERATIONS}] train_loss: {train_loss}, val_Loss: {val_loss}, Recall: {recall_at_k}, Precision: {precision_at_k}\")\n",
    "\n",
    "      train_losses.append(train_loss.item())\n",
    "      val_losses.append(val_loss.item())\n",
    "      val_recall_at_k.append(recall_at_k)\n",
    "      val_precision_at_k.append(precision_at_k)\n",
    "\n",
    "    model.train()\n",
    "\n",
    "  if iter % ITERS_PER_LR_DECAY == 0 and iter != 0:\n",
    "    scheduler.step()"
   ]
  },
  {
   "cell_type": "markdown",
   "metadata": {
    "id": "I1B0Ra3DFR04"
   },
   "source": [
    "## Plotting"
   ]
  },
  {
   "cell_type": "code",
   "execution_count": 116,
   "metadata": {
    "colab": {
     "base_uri": "https://localhost:8080/",
     "height": 472
    },
    "execution": {
     "iopub.execute_input": "2024-08-09T11:03:57.219589Z",
     "iopub.status.busy": "2024-08-09T11:03:57.218923Z",
     "iopub.status.idle": "2024-08-09T11:03:57.525365Z",
     "shell.execute_reply": "2024-08-09T11:03:57.524561Z",
     "shell.execute_reply.started": "2024-08-09T11:03:57.219557Z"
    },
    "id": "nbbGGvQREIZJ",
    "outputId": "bd3a6fc2-381e-4c96-a8e4-769af0a66c13"
   },
   "outputs": [
    {
     "data": {
      "image/png": "[encoded data removed]",
      "text/plain": [
       "<Figure size 640x480 with 1 Axes>"
      ]
     },
     "metadata": {},
     "output_type": "display_data"
    }
   ],
   "source": [
    "# Train the model\n",
    "iters = [iter * ITERS_PER_EVAL for iter in range(len(train_losses))]\n",
    "plt.plot(iters, train_losses, label='train')\n",
    "plt.plot(iters, val_losses, label='val')\n",
    "plt.xlabel('iteration')\n",
    "plt.ylabel('loss')\n",
    "plt.title('Training and Validation loss curves')\n",
    "plt.legend()\n",
    "plt.show()"
   ]
  },
  {
   "cell_type": "code",
   "execution_count": 117,
   "metadata": {
    "colab": {
     "base_uri": "https://localhost:8080/",
     "height": 472
    },
    "execution": {
     "iopub.execute_input": "2024-08-09T11:04:12.649655Z",
     "iopub.status.busy": "2024-08-09T11:04:12.648971Z",
     "iopub.status.idle": "2024-08-09T11:04:12.913834Z",
     "shell.execute_reply": "2024-08-09T11:04:12.912978Z",
     "shell.execute_reply.started": "2024-08-09T11:04:12.649623Z"
    },
    "id": "8rCmF7RYFTT5",
    "outputId": "ca317b91-9aee-45e7-9d9d-a0c1fb6b1d0d"
   },
   "outputs": [
    {
     "data": {
      "image/png": "[encoded data removed]",
      "text/plain": [
       "<Figure size 640x480 with 1 Axes>"
      ]
     },
     "metadata": {},
     "output_type": "display_data"
    }
   ],
   "source": [
    "# Code cell\n",
    "f2 = plt.figure()\n",
    "plt.plot(iters, val_recall_at_k, label='val_recall')\n",
    "plt.xlabel('iteration')\n",
    "plt.ylabel('recall')\n",
    "plt.title('Validation Recall curves')\n",
    "plt.legend()\n",
    "plt.show()"
   ]
  },
  {
   "cell_type": "markdown",
   "metadata": {
    "id": "GzS_43m3FkAZ"
   },
   "source": [
    "## Evaluation"
   ]
  },
  {
   "cell_type": "code",
   "execution_count": 120,
   "metadata": {
    "colab": {
     "base_uri": "https://localhost:8080/"
    },
    "execution": {
     "iopub.execute_input": "2024-08-09T11:07:31.214718Z",
     "iopub.status.busy": "2024-08-09T11:07:31.214090Z",
     "iopub.status.idle": "2024-08-09T11:07:31.869000Z",
     "shell.execute_reply": "2024-08-09T11:07:31.868041Z",
     "shell.execute_reply.started": "2024-08-09T11:07:31.214687Z"
    },
    "id": "YK1VDllNFdNf",
    "outputId": "f911ec34-5978-4826-c12b-d0f7e05202bf"
   },
   "outputs": [
    {
     "name": "stdout",
     "output_type": "stream",
     "text": [
      "Recall: 0.5161722698902388, Precision: 0.6290730778910735\n"
     ]
    }
   ],
   "source": [
    "# Code cell\n",
    "model.eval()\n",
    "with torch.no_grad():\n",
    "    pred_ratings = model.forward(test_adj_edge_index, test_adj_edge_values)\n",
    "    test_recall, test_precision = get_recall_at_k(r_mat_test_index, r_mat_test_values, pred_ratings, 20)\n",
    "    print(f\"Recall: {test_recall}, Precision: {test_precision}\")"
   ]
  }
 ],
 "metadata": {
  "accelerator": "GPU",
  "colab": {
   "gpuType": "T4",
   "provenance": []
  },
  "kaggle": {
   "accelerator": "gpu",
   "dataSources": [],
   "dockerImageVersionId": 30747,
   "isGpuEnabled": true,
   "isInternetEnabled": true,
   "language": "python",
   "sourceType": "notebook"
  },
  "kernelspec": {
   "display_name": "Python 3",
   "language": "python",
   "name": "python3"
  },
  "language_info": {
   "codemirror_mode": {
    "name": "ipython",
    "version": 3
   },
   "file_extension": ".py",
   "mimetype": "text/x-python",
   "name": "python",
   "nbconvert_exporter": "python",
   "pygments_lexer": "ipython3",
   "version": "3.10.13"
  },
  "widgets": {
   "application/vnd.jupyter.widget-state+json": {
    "051ac13b99fc435d8d82de838cc5bf72": {
     "model_module": "@jupyter-widgets/controls",
     "model_module_version": "1.5.0",
     "model_name": "ProgressStyleModel",
     "state": {
      "_model_module": "@jupyter-widgets/controls",
      "_model_module_version": "1.5.0",
      "_model_name": "ProgressStyleModel",
      "_view_count": null,
      "_view_module": "@jupyter-widgets/base",
      "_view_module_version": "1.2.0",
      "_view_name": "StyleView",
      "bar_color": null,
      "description_width": ""
     }
    },
    "1c3a7fd4cd394f55b245053b25c5a7ac": {
     "model_module": "@jupyter-widgets/base",
     "model_module_version": "1.2.0",
     "model_name": "LayoutModel",
     "state": {
      "_model_module": "@jupyter-widgets/base",
      "_model_module_version": "1.2.0",
      "_model_name": "LayoutModel",
      "_view_count": null,
      "_view_module": "@jupyter-widgets/base",
      "_view_module_version": "1.2.0",
      "_view_name": "LayoutView",
      "align_content": null,
      "align_items": null,
      "align_self": null,
      "border": null,
      "bottom": null,
      "display": null,
      "flex": null,
      "flex_flow": null,
      "grid_area": null,
      "grid_auto_columns": null,
      "grid_auto_flow": null,
      "grid_auto_rows": null,
      "grid_column": null,
      "grid_gap": null,
      "grid_row": null,
      "grid_template_areas": null,
      "grid_template_columns": null,
      "grid_template_rows": null,
      "height": null,
      "justify_content": null,
      "justify_items": null,
      "left": null,
      "margin": null,
      "max_height": null,
      "max_width": null,
      "min_height": null,
      "min_width": null,
      "object_fit": null,
      "object_position": null,
      "order": null,
      "overflow": null,
      "overflow_x": null,
      "overflow_y": null,
      "padding": null,
      "right": null,
      "top": null,
      "visibility": null,
      "width": null
     }
    },
    "27b38b6ab74442f5b5d60b5a20d97b50": {
     "model_module": "@jupyter-widgets/controls",
     "model_module_version": "1.5.0",
     "model_name": "DescriptionStyleModel",
     "state": {
      "_model_module": "@jupyter-widgets/controls",
      "_model_module_version": "1.5.0",
      "_model_name": "DescriptionStyleModel",
      "_view_count": null,
      "_view_module": "@jupyter-widgets/base",
      "_view_module_version": "1.2.0",
      "_view_name": "StyleView",
      "description_width": ""
     }
    },
    "35674005d4e540a8aadd5c6788d18fe5": {
     "model_module": "@jupyter-widgets/base",
     "model_module_version": "1.2.0",
     "model_name": "LayoutModel",
     "state": {
      "_model_module": "@jupyter-widgets/base",
      "_model_module_version": "1.2.0",
      "_model_name": "LayoutModel",
      "_view_count": null,
      "_view_module": "@jupyter-widgets/base",
      "_view_module_version": "1.2.0",
      "_view_name": "LayoutView",
      "align_content": null,
      "align_items": null,
      "align_self": null,
      "border": null,
      "bottom": null,
      "display": null,
      "flex": null,
      "flex_flow": null,
      "grid_area": null,
      "grid_auto_columns": null,
      "grid_auto_flow": null,
      "grid_auto_rows": null,
      "grid_column": null,
      "grid_gap": null,
      "grid_row": null,
      "grid_template_areas": null,
      "grid_template_columns": null,
      "grid_template_rows": null,
      "height": null,
      "justify_content": null,
      "justify_items": null,
      "left": null,
      "margin": null,
      "max_height": null,
      "max_width": null,
      "min_height": null,
      "min_width": null,
      "object_fit": null,
      "object_position": null,
      "order": null,
      "overflow": null,
      "overflow_x": null,
      "overflow_y": null,
      "padding": null,
      "right": null,
      "top": null,
      "visibility": null,
      "width": null
     }
    },
    "40ba21bc2f8943bfb7bb47898d805765": {
     "model_module": "@jupyter-widgets/controls",
     "model_module_version": "1.5.0",
     "model_name": "DescriptionStyleModel",
     "state": {
      "_model_module": "@jupyter-widgets/controls",
      "_model_module_version": "1.5.0",
      "_model_name": "DescriptionStyleModel",
      "_view_count": null,
      "_view_module": "@jupyter-widgets/base",
      "_view_module_version": "1.2.0",
      "_view_name": "StyleView",
      "description_width": ""
     }
    },
    "6b009c3db6b64c058fe17ebb4d25fc8a": {
     "model_module": "@jupyter-widgets/base",
     "model_module_version": "1.2.0",
     "model_name": "LayoutModel",
     "state": {
      "_model_module": "@jupyter-widgets/base",
      "_model_module_version": "1.2.0",
      "_model_name": "LayoutModel",
      "_view_count": null,
      "_view_module": "@jupyter-widgets/base",
      "_view_module_version": "1.2.0",
      "_view_name": "LayoutView",
      "align_content": null,
      "align_items": null,
      "align_self": null,
      "border": null,
      "bottom": null,
      "display": null,
      "flex": null,
      "flex_flow": null,
      "grid_area": null,
      "grid_auto_columns": null,
      "grid_auto_flow": null,
      "grid_auto_rows": null,
      "grid_column": null,
      "grid_gap": null,
      "grid_row": null,
      "grid_template_areas": null,
      "grid_template_columns": null,
      "grid_template_rows": null,
      "height": null,
      "justify_content": null,
      "justify_items": null,
      "left": null,
      "margin": null,
      "max_height": null,
      "max_width": null,
      "min_height": null,
      "min_width": null,
      "object_fit": null,
      "object_position": null,
      "order": null,
      "overflow": null,
      "overflow_x": null,
      "overflow_y": null,
      "padding": null,
      "right": null,
      "top": null,
      "visibility": null,
      "width": null
     }
    },
    "944dfe5672b243a493631a16e554494e": {
     "model_module": "@jupyter-widgets/controls",
     "model_module_version": "1.5.0",
     "model_name": "HTMLModel",
     "state": {
      "_dom_classes": [],
      "_model_module": "@jupyter-widgets/controls",
      "_model_module_version": "1.5.0",
      "_model_name": "HTMLModel",
      "_view_count": null,
      "_view_module": "@jupyter-widgets/controls",
      "_view_module_version": "1.5.0",
      "_view_name": "HTMLView",
      "description": "",
      "description_tooltip": null,
      "layout": "IPY_MODEL_1c3a7fd4cd394f55b245053b25c5a7ac",
      "placeholder": "​",
      "style": "IPY_MODEL_40ba21bc2f8943bfb7bb47898d805765",
      "value": "100%"
     }
    },
    "96f7c37570b44beebbacbbe1bbb3bd4f": {
     "model_module": "@jupyter-widgets/controls",
     "model_module_version": "1.5.0",
     "model_name": "HBoxModel",
     "state": {
      "_dom_classes": [],
      "_model_module": "@jupyter-widgets/controls",
      "_model_module_version": "1.5.0",
      "_model_name": "HBoxModel",
      "_view_count": null,
      "_view_module": "@jupyter-widgets/controls",
      "_view_module_version": "1.5.0",
      "_view_name": "HBoxView",
      "box_style": "",
      "children": [
       "IPY_MODEL_944dfe5672b243a493631a16e554494e",
       "IPY_MODEL_fb2f7178087d4d2eb6bf9a57ab1e501e",
       "IPY_MODEL_a2d94911c6584013ae46b02ef53cb3c6"
      ],
      "layout": "IPY_MODEL_b4daf3e1d2354d44a70bbaf98660d905"
     }
    },
    "a2d94911c6584013ae46b02ef53cb3c6": {
     "model_module": "@jupyter-widgets/controls",
     "model_module_version": "1.5.0",
     "model_name": "HTMLModel",
     "state": {
      "_dom_classes": [],
      "_model_module": "@jupyter-widgets/controls",
      "_model_module_version": "1.5.0",
      "_model_name": "HTMLModel",
      "_view_count": null,
      "_view_module": "@jupyter-widgets/controls",
      "_view_module_version": "1.5.0",
      "_view_name": "HTMLView",
      "description": "",
      "description_tooltip": null,
      "layout": "IPY_MODEL_35674005d4e540a8aadd5c6788d18fe5",
      "placeholder": "​",
      "style": "IPY_MODEL_27b38b6ab74442f5b5d60b5a20d97b50",
      "value": " 10000/10000 [05:55&lt;00:00, 64.43it/s]"
     }
    },
    "b4daf3e1d2354d44a70bbaf98660d905": {
     "model_module": "@jupyter-widgets/base",
     "model_module_version": "1.2.0",
     "model_name": "LayoutModel",
     "state": {
      "_model_module": "@jupyter-widgets/base",
      "_model_module_version": "1.2.0",
      "_model_name": "LayoutModel",
      "_view_count": null,
      "_view_module": "@jupyter-widgets/base",
      "_view_module_version": "1.2.0",
      "_view_name": "LayoutView",
      "align_content": null,
      "align_items": null,
      "align_self": null,
      "border": null,
      "bottom": null,
      "display": null,
      "flex": null,
      "flex_flow": null,
      "grid_area": null,
      "grid_auto_columns": null,
      "grid_auto_flow": null,
      "grid_auto_rows": null,
      "grid_column": null,
      "grid_gap": null,
      "grid_row": null,
      "grid_template_areas": null,
      "grid_template_columns": null,
      "grid_template_rows": null,
      "height": null,
      "justify_content": null,
      "justify_items": null,
      "left": null,
      "margin": null,
      "max_height": null,
      "max_width": null,
      "min_height": null,
      "min_width": null,
      "object_fit": null,
      "object_position": null,
      "order": null,
      "overflow": null,
      "overflow_x": null,
      "overflow_y": null,
      "padding": null,
      "right": null,
      "top": null,
      "visibility": null,
      "width": null
     }
    },
    "fb2f7178087d4d2eb6bf9a57ab1e501e": {
     "model_module": "@jupyter-widgets/controls",
     "model_module_version": "1.5.0",
     "model_name": "FloatProgressModel",
     "state": {
      "_dom_classes": [],
      "_model_module": "@jupyter-widgets/controls",
      "_model_module_version": "1.5.0",
      "_model_name": "FloatProgressModel",
      "_view_count": null,
      "_view_module": "@jupyter-widgets/controls",
      "_view_module_version": "1.5.0",
      "_view_name": "ProgressView",
      "bar_style": "success",
      "description": "",
      "description_tooltip": null,
      "layout": "IPY_MODEL_6b009c3db6b64c058fe17ebb4d25fc8a",
      "max": 10000,
      "min": 0,
      "orientation": "horizontal",
      "style": "IPY_MODEL_051ac13b99fc435d8d82de838cc5bf72",
      "value": 10000
     }
    }
   }
  }
 },
 "nbformat": 4,
 "nbformat_minor": 4
}
